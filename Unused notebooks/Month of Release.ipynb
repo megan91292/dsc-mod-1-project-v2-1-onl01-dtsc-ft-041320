{
 "cells": [
  {
   "cell_type": "code",
   "execution_count": 1,
   "metadata": {},
   "outputs": [],
   "source": [
    "import pandas as pd\n",
    "import seaborn as sns\n",
    "import matplotlib.pyplot as plt\n",
    "import numpy as np"
   ]
  },
  {
   "cell_type": "code",
   "execution_count": 2,
   "metadata": {},
   "outputs": [
    {
     "data": {
      "text/html": [
       "<div>\n",
       "<style scoped>\n",
       "    .dataframe tbody tr th:only-of-type {\n",
       "        vertical-align: middle;\n",
       "    }\n",
       "\n",
       "    .dataframe tbody tr th {\n",
       "        vertical-align: top;\n",
       "    }\n",
       "\n",
       "    .dataframe thead th {\n",
       "        text-align: right;\n",
       "    }\n",
       "</style>\n",
       "<table border=\"1\" class=\"dataframe\">\n",
       "  <thead>\n",
       "    <tr style=\"text-align: right;\">\n",
       "      <th></th>\n",
       "      <th>id</th>\n",
       "      <th>release_date</th>\n",
       "      <th>movie</th>\n",
       "      <th>production_budget</th>\n",
       "      <th>domestic_gross</th>\n",
       "      <th>worldwide_gross</th>\n",
       "      <th>year_released</th>\n",
       "      <th>age</th>\n",
       "      <th>decades</th>\n",
       "      <th>day</th>\n",
       "      <th>daynumber</th>\n",
       "      <th>month</th>\n",
       "      <th>markup</th>\n",
       "      <th>profitmargin</th>\n",
       "      <th>netprofit</th>\n",
       "    </tr>\n",
       "  </thead>\n",
       "  <tbody>\n",
       "    <tr>\n",
       "      <td>0</td>\n",
       "      <td>1</td>\n",
       "      <td>2009-12-18</td>\n",
       "      <td>Avatar</td>\n",
       "      <td>425000000</td>\n",
       "      <td>760507625</td>\n",
       "      <td>2776345279</td>\n",
       "      <td>2009</td>\n",
       "      <td>11</td>\n",
       "      <td>1</td>\n",
       "      <td>Friday</td>\n",
       "      <td>4</td>\n",
       "      <td>12</td>\n",
       "      <td>5.532577</td>\n",
       "      <td>0.846921</td>\n",
       "      <td>2351345279</td>\n",
       "    </tr>\n",
       "    <tr>\n",
       "      <td>1</td>\n",
       "      <td>2</td>\n",
       "      <td>2011-05-20</td>\n",
       "      <td>Pirates of the Caribbean: On Stranger Tides</td>\n",
       "      <td>410600000</td>\n",
       "      <td>241063875</td>\n",
       "      <td>1045663875</td>\n",
       "      <td>2011</td>\n",
       "      <td>9</td>\n",
       "      <td>0</td>\n",
       "      <td>Friday</td>\n",
       "      <td>4</td>\n",
       "      <td>5</td>\n",
       "      <td>1.546673</td>\n",
       "      <td>0.607331</td>\n",
       "      <td>635063875</td>\n",
       "    </tr>\n",
       "    <tr>\n",
       "      <td>2</td>\n",
       "      <td>3</td>\n",
       "      <td>2019-06-07</td>\n",
       "      <td>Dark Phoenix</td>\n",
       "      <td>350000000</td>\n",
       "      <td>42762350</td>\n",
       "      <td>149762350</td>\n",
       "      <td>2019</td>\n",
       "      <td>1</td>\n",
       "      <td>0</td>\n",
       "      <td>Friday</td>\n",
       "      <td>4</td>\n",
       "      <td>6</td>\n",
       "      <td>-0.572108</td>\n",
       "      <td>-1.337036</td>\n",
       "      <td>-200237650</td>\n",
       "    </tr>\n",
       "    <tr>\n",
       "      <td>3</td>\n",
       "      <td>4</td>\n",
       "      <td>2015-05-01</td>\n",
       "      <td>Avengers: Age of Ultron</td>\n",
       "      <td>330600000</td>\n",
       "      <td>459005868</td>\n",
       "      <td>1403013963</td>\n",
       "      <td>2015</td>\n",
       "      <td>5</td>\n",
       "      <td>0</td>\n",
       "      <td>Friday</td>\n",
       "      <td>4</td>\n",
       "      <td>5</td>\n",
       "      <td>3.243841</td>\n",
       "      <td>0.764364</td>\n",
       "      <td>1072413963</td>\n",
       "    </tr>\n",
       "    <tr>\n",
       "      <td>4</td>\n",
       "      <td>5</td>\n",
       "      <td>2017-12-15</td>\n",
       "      <td>Star Wars Ep. VIII: The Last Jedi</td>\n",
       "      <td>317000000</td>\n",
       "      <td>620181382</td>\n",
       "      <td>1316721747</td>\n",
       "      <td>2017</td>\n",
       "      <td>3</td>\n",
       "      <td>0</td>\n",
       "      <td>Friday</td>\n",
       "      <td>4</td>\n",
       "      <td>12</td>\n",
       "      <td>3.153696</td>\n",
       "      <td>0.759251</td>\n",
       "      <td>999721747</td>\n",
       "    </tr>\n",
       "  </tbody>\n",
       "</table>\n",
       "</div>"
      ],
      "text/plain": [
       "   id release_date                                        movie  \\\n",
       "0   1   2009-12-18                                       Avatar   \n",
       "1   2   2011-05-20  Pirates of the Caribbean: On Stranger Tides   \n",
       "2   3   2019-06-07                                 Dark Phoenix   \n",
       "3   4   2015-05-01                      Avengers: Age of Ultron   \n",
       "4   5   2017-12-15            Star Wars Ep. VIII: The Last Jedi   \n",
       "\n",
       "   production_budget  domestic_gross  worldwide_gross  year_released  age  \\\n",
       "0          425000000       760507625       2776345279           2009   11   \n",
       "1          410600000       241063875       1045663875           2011    9   \n",
       "2          350000000        42762350        149762350           2019    1   \n",
       "3          330600000       459005868       1403013963           2015    5   \n",
       "4          317000000       620181382       1316721747           2017    3   \n",
       "\n",
       "   decades     day  daynumber  month    markup  profitmargin   netprofit  \n",
       "0        1  Friday          4     12  5.532577      0.846921  2351345279  \n",
       "1        0  Friday          4      5  1.546673      0.607331   635063875  \n",
       "2        0  Friday          4      6 -0.572108     -1.337036  -200237650  \n",
       "3        0  Friday          4      5  3.243841      0.764364  1072413963  \n",
       "4        0  Friday          4     12  3.153696      0.759251   999721747  "
      ]
     },
     "execution_count": 2,
     "metadata": {},
     "output_type": "execute_result"
    }
   ],
   "source": [
    "df = pd.read_csv('cleandata/movierevenue.csv',index_col = 0)\n",
    "df.head()"
   ]
  },
  {
   "cell_type": "code",
   "execution_count": 3,
   "metadata": {},
   "outputs": [],
   "source": [
    "import seaborn as sns\n"
   ]
  },
  {
   "cell_type": "code",
   "execution_count": 39,
   "metadata": {},
   "outputs": [
    {
     "name": "stdout",
     "output_type": "stream",
     "text": [
      "<class 'pandas.core.frame.DataFrame'>\n",
      "Int64Index: 5782 entries, 0 to 5781\n",
      "Data columns (total 15 columns):\n",
      "id                   5782 non-null int64\n",
      "release_date         5782 non-null object\n",
      "movie                5782 non-null object\n",
      "production_budget    5782 non-null int64\n",
      "domestic_gross       5782 non-null int64\n",
      "worldwide_gross      5782 non-null int64\n",
      "year_released        5782 non-null int64\n",
      "age                  5782 non-null int64\n",
      "decades              5782 non-null int64\n",
      "day                  5782 non-null object\n",
      "daynumber            5782 non-null int64\n",
      "month                5782 non-null int64\n",
      "markup               5782 non-null float64\n",
      "profitmargin         5782 non-null float64\n",
      "netprofit            5782 non-null int64\n",
      "dtypes: float64(2), int64(10), object(3)\n",
      "memory usage: 882.8+ KB\n"
     ]
    }
   ],
   "source": [
    "df.info()"
   ]
  },
  {
   "cell_type": "code",
   "execution_count": 40,
   "metadata": {},
   "outputs": [
    {
     "data": {
      "text/plain": [
       "<matplotlib.axes._subplots.AxesSubplot at 0x1a2d6942e8>"
      ]
     },
     "execution_count": 40,
     "metadata": {},
     "output_type": "execute_result"
    },
    {
     "data": {
      "image/png": "[encoded data removed]",
      "text/plain": [
       "<Figure size 432x288 with 1 Axes>"
      ]
     },
     "metadata": {
      "needs_background": "light"
     },
     "output_type": "display_data"
    }
   ],
   "source": [
    "df['month'].hist()"
   ]
  },
  {
   "cell_type": "code",
   "execution_count": 44,
   "metadata": {},
   "outputs": [
    {
     "data": {
      "text/plain": [
       "<matplotlib.axes._subplots.AxesSubplot at 0x1a2d99b710>"
      ]
     },
     "execution_count": 44,
     "metadata": {},
     "output_type": "execute_result"
    },
    {
     "data": {
      "image/png": "[encoded data removed]",
      "text/plain": [
       "<Figure size 432x288 with 1 Axes>"
      ]
     },
     "metadata": {
      "needs_background": "light"
     },
     "output_type": "display_data"
    }
   ],
   "source": [
    "df['worldwide_gross'].hist()"
   ]
  },
  {
   "cell_type": "code",
   "execution_count": null,
   "metadata": {},
   "outputs": [],
   "source": []
  },
  {
   "cell_type": "code",
   "execution_count": null,
   "metadata": {},
   "outputs": [],
   "source": []
  },
  {
   "cell_type": "code",
   "execution_count": null,
   "metadata": {},
   "outputs": [],
   "source": []
  },
  {
   "cell_type": "code",
   "execution_count": 127,
   "metadata": {},
   "outputs": [
    {
     "data": {
      "text/plain": [
       "(-10, 2015162542.95)"
      ]
     },
     "execution_count": 127,
     "metadata": {},
     "output_type": "execute_result"
    },
    {
     "data": {
      "image/png": "[encoded data removed]",
      "text/plain": [
       "<Figure size 720x576 with 1 Axes>"
      ]
     },
     "metadata": {},
     "output_type": "display_data"
    }
   ],
   "source": [
    "fig, axes=plt.subplots(nrows=1, ncols=1, figsize=(10,8))\n",
    "ax = sns.boxplot(x='day',y='worldwide_gross', data=df, palette = 'rainbow')\n",
    "ax.set_title(\"Gross Revenue by day of Release\", size = 20, pad = 15);\n",
    "\n",
    "\n",
    "ax.set_xlabel(\"Day of Week in Numbers\", size = 15, labelpad = 10)\n",
    "ax.set_ylabel(\" Gross Revenue (Billions USD)\", size = 15, labelpad =10)\n",
    "\n",
    "ax.set_ylim(-10, 2015162542.95)"
   ]
  },
  {
   "cell_type": "code",
   "execution_count": 5,
   "metadata": {},
   "outputs": [
    {
     "data": {
      "text/plain": [
       "<matplotlib.axes._subplots.AxesSubplot at 0x1a23eec6a0>"
      ]
     },
     "execution_count": 5,
     "metadata": {},
     "output_type": "execute_result"
    },
    {
     "data": {
      "image/png": "[encoded data removed]",
      "text/plain": [
       "<Figure size 432x288 with 1 Axes>"
      ]
     },
     "metadata": {
      "needs_background": "light"
     },
     "output_type": "display_data"
    }
   ],
   "source": [
    "sns.boxplot(x = 'month', y = 'worldwide_gross', data = df)"
   ]
  },
  {
   "cell_type": "code",
   "execution_count": 48,
   "metadata": {},
   "outputs": [],
   "source": [
    "gross_day = pd.DataFrame(df.groupby('day')['markup'].agg(['median','sum','count','mean']))\n",
    "gross_day.reset_index(inplace = True)"
   ]
  },
  {
   "cell_type": "code",
   "execution_count": 49,
   "metadata": {},
   "outputs": [
    {
     "data": {
      "text/html": [
       "<div>\n",
       "<style scoped>\n",
       "    .dataframe tbody tr th:only-of-type {\n",
       "        vertical-align: middle;\n",
       "    }\n",
       "\n",
       "    .dataframe tbody tr th {\n",
       "        vertical-align: top;\n",
       "    }\n",
       "\n",
       "    .dataframe thead th {\n",
       "        text-align: right;\n",
       "    }\n",
       "</style>\n",
       "<table border=\"1\" class=\"dataframe\">\n",
       "  <thead>\n",
       "    <tr style=\"text-align: right;\">\n",
       "      <th></th>\n",
       "      <th>day</th>\n",
       "      <th>median</th>\n",
       "      <th>sum</th>\n",
       "      <th>count</th>\n",
       "      <th>mean</th>\n",
       "    </tr>\n",
       "  </thead>\n",
       "  <tbody>\n",
       "    <tr>\n",
       "      <td>0</td>\n",
       "      <td>Friday</td>\n",
       "      <td>0.730084</td>\n",
       "      <td>15817.010584</td>\n",
       "      <td>4539</td>\n",
       "      <td>3.484691</td>\n",
       "    </tr>\n",
       "    <tr>\n",
       "      <td>1</td>\n",
       "      <td>Monday</td>\n",
       "      <td>-0.456528</td>\n",
       "      <td>223.066234</td>\n",
       "      <td>59</td>\n",
       "      <td>3.780784</td>\n",
       "    </tr>\n",
       "    <tr>\n",
       "      <td>2</td>\n",
       "      <td>Saturday</td>\n",
       "      <td>-0.043577</td>\n",
       "      <td>369.701957</td>\n",
       "      <td>56</td>\n",
       "      <td>6.601821</td>\n",
       "    </tr>\n",
       "    <tr>\n",
       "      <td>3</td>\n",
       "      <td>Sunday</td>\n",
       "      <td>0.666667</td>\n",
       "      <td>460.353813</td>\n",
       "      <td>45</td>\n",
       "      <td>10.230085</td>\n",
       "    </tr>\n",
       "    <tr>\n",
       "      <td>4</td>\n",
       "      <td>Thursday</td>\n",
       "      <td>1.165086</td>\n",
       "      <td>995.136492</td>\n",
       "      <td>172</td>\n",
       "      <td>5.785677</td>\n",
       "    </tr>\n",
       "    <tr>\n",
       "      <td>5</td>\n",
       "      <td>Tuesday</td>\n",
       "      <td>-0.997470</td>\n",
       "      <td>764.469412</td>\n",
       "      <td>290</td>\n",
       "      <td>2.636101</td>\n",
       "    </tr>\n",
       "    <tr>\n",
       "      <td>6</td>\n",
       "      <td>Wednesday</td>\n",
       "      <td>1.383619</td>\n",
       "      <td>3342.794524</td>\n",
       "      <td>621</td>\n",
       "      <td>5.382922</td>\n",
       "    </tr>\n",
       "  </tbody>\n",
       "</table>\n",
       "</div>"
      ],
      "text/plain": [
       "         day    median           sum  count       mean\n",
       "0     Friday  0.730084  15817.010584   4539   3.484691\n",
       "1     Monday -0.456528    223.066234     59   3.780784\n",
       "2   Saturday -0.043577    369.701957     56   6.601821\n",
       "3     Sunday  0.666667    460.353813     45  10.230085\n",
       "4   Thursday  1.165086    995.136492    172   5.785677\n",
       "5    Tuesday -0.997470    764.469412    290   2.636101\n",
       "6  Wednesday  1.383619   3342.794524    621   5.382922"
      ]
     },
     "execution_count": 49,
     "metadata": {},
     "output_type": "execute_result"
    }
   ],
   "source": [
    "gross_day"
   ]
  },
  {
   "cell_type": "code",
   "execution_count": 188,
   "metadata": {},
   "outputs": [],
   "source": [
    "%store -r df2010"
   ]
  },
  {
   "cell_type": "code",
   "execution_count": 210,
   "metadata": {},
   "outputs": [],
   "source": [
    "gross_month2010 = pd.DataFrame(df2010.groupby('month')['worldwide_gross'].agg(['median','sum','count','mean']))\n",
    "gross_month2010.reset_index(inplace = True)"
   ]
  },
  {
   "cell_type": "code",
   "execution_count": 211,
   "metadata": {},
   "outputs": [],
   "source": [
    "gross_month2000 = pd.DataFrame(df2000.groupby('month')['worldwide_gross'].agg(['median','sum','count','mean']))\n",
    "gross_month2000.reset_index(inplace = True)"
   ]
  },
  {
   "cell_type": "code",
   "execution_count": 212,
   "metadata": {},
   "outputs": [],
   "source": [
    "gross_month1990 = pd.DataFrame(df1990.groupby('month')['worldwide_gross'].agg(['median','sum','count','mean']))\n",
    "gross_month1990.reset_index(inplace = True)"
   ]
  },
  {
   "cell_type": "code",
   "execution_count": 213,
   "metadata": {},
   "outputs": [],
   "source": [
    "gross_month1980 = pd.DataFrame(df1980.groupby('month')['worldwide_gross'].agg(['median','sum','count','mean']))\n",
    "gross_month1980.reset_index(inplace = True)"
   ]
  },
  {
   "cell_type": "code",
   "execution_count": 222,
   "metadata": {},
   "outputs": [
    {
     "data": {
      "text/html": [
       "<div>\n",
       "<style scoped>\n",
       "    .dataframe tbody tr th:only-of-type {\n",
       "        vertical-align: middle;\n",
       "    }\n",
       "\n",
       "    .dataframe tbody tr th {\n",
       "        vertical-align: top;\n",
       "    }\n",
       "\n",
       "    .dataframe thead th {\n",
       "        text-align: right;\n",
       "    }\n",
       "</style>\n",
       "<table border=\"1\" class=\"dataframe\">\n",
       "  <thead>\n",
       "    <tr style=\"text-align: right;\">\n",
       "      <th></th>\n",
       "      <th>month</th>\n",
       "      <th>median</th>\n",
       "      <th>sum</th>\n",
       "      <th>count</th>\n",
       "      <th>mean</th>\n",
       "    </tr>\n",
       "  </thead>\n",
       "  <tbody>\n",
       "    <tr>\n",
       "      <td>0</td>\n",
       "      <td>1</td>\n",
       "      <td>41224421.0</td>\n",
       "      <td>8738563294</td>\n",
       "      <td>126</td>\n",
       "      <td>6.935368e+07</td>\n",
       "    </tr>\n",
       "    <tr>\n",
       "      <td>1</td>\n",
       "      <td>2</td>\n",
       "      <td>43953337.0</td>\n",
       "      <td>14859582449</td>\n",
       "      <td>142</td>\n",
       "      <td>1.046449e+08</td>\n",
       "    </tr>\n",
       "    <tr>\n",
       "      <td>2</td>\n",
       "      <td>3</td>\n",
       "      <td>19599974.0</td>\n",
       "      <td>19180904801</td>\n",
       "      <td>177</td>\n",
       "      <td>1.083667e+08</td>\n",
       "    </tr>\n",
       "    <tr>\n",
       "      <td>3</td>\n",
       "      <td>4</td>\n",
       "      <td>17478366.5</td>\n",
       "      <td>14705816613</td>\n",
       "      <td>156</td>\n",
       "      <td>9.426806e+07</td>\n",
       "    </tr>\n",
       "    <tr>\n",
       "      <td>4</td>\n",
       "      <td>5</td>\n",
       "      <td>48249489.0</td>\n",
       "      <td>26116045265</td>\n",
       "      <td>134</td>\n",
       "      <td>1.948959e+08</td>\n",
       "    </tr>\n",
       "    <tr>\n",
       "      <td>5</td>\n",
       "      <td>6</td>\n",
       "      <td>38952463.5</td>\n",
       "      <td>25900197601</td>\n",
       "      <td>142</td>\n",
       "      <td>1.823958e+08</td>\n",
       "    </tr>\n",
       "    <tr>\n",
       "      <td>6</td>\n",
       "      <td>7</td>\n",
       "      <td>61449135.0</td>\n",
       "      <td>24919936764</td>\n",
       "      <td>141</td>\n",
       "      <td>1.767371e+08</td>\n",
       "    </tr>\n",
       "    <tr>\n",
       "      <td>7</td>\n",
       "      <td>8</td>\n",
       "      <td>40585745.5</td>\n",
       "      <td>11847527819</td>\n",
       "      <td>154</td>\n",
       "      <td>7.693200e+07</td>\n",
       "    </tr>\n",
       "    <tr>\n",
       "      <td>8</td>\n",
       "      <td>9</td>\n",
       "      <td>21970000.0</td>\n",
       "      <td>9982256396</td>\n",
       "      <td>169</td>\n",
       "      <td>5.906661e+07</td>\n",
       "    </tr>\n",
       "    <tr>\n",
       "      <td>9</td>\n",
       "      <td>10</td>\n",
       "      <td>15505922.0</td>\n",
       "      <td>12118721367</td>\n",
       "      <td>175</td>\n",
       "      <td>6.924984e+07</td>\n",
       "    </tr>\n",
       "    <tr>\n",
       "      <td>10</td>\n",
       "      <td>11</td>\n",
       "      <td>51695362.0</td>\n",
       "      <td>26980916962</td>\n",
       "      <td>157</td>\n",
       "      <td>1.718530e+08</td>\n",
       "    </tr>\n",
       "    <tr>\n",
       "      <td>11</td>\n",
       "      <td>12</td>\n",
       "      <td>9832887.0</td>\n",
       "      <td>25911644476</td>\n",
       "      <td>244</td>\n",
       "      <td>1.061953e+08</td>\n",
       "    </tr>\n",
       "  </tbody>\n",
       "</table>\n",
       "</div>"
      ],
      "text/plain": [
       "    month      median          sum  count          mean\n",
       "0       1  41224421.0   8738563294    126  6.935368e+07\n",
       "1       2  43953337.0  14859582449    142  1.046449e+08\n",
       "2       3  19599974.0  19180904801    177  1.083667e+08\n",
       "3       4  17478366.5  14705816613    156  9.426806e+07\n",
       "4       5  48249489.0  26116045265    134  1.948959e+08\n",
       "5       6  38952463.5  25900197601    142  1.823958e+08\n",
       "6       7  61449135.0  24919936764    141  1.767371e+08\n",
       "7       8  40585745.5  11847527819    154  7.693200e+07\n",
       "8       9  21970000.0   9982256396    169  5.906661e+07\n",
       "9      10  15505922.0  12118721367    175  6.924984e+07\n",
       "10     11  51695362.0  26980916962    157  1.718530e+08\n",
       "11     12   9832887.0  25911644476    244  1.061953e+08"
      ]
     },
     "execution_count": 222,
     "metadata": {},
     "output_type": "execute_result"
    }
   ],
   "source": [
    "gross_month2010"
   ]
  },
  {
   "cell_type": "code",
   "execution_count": 258,
   "metadata": {},
   "outputs": [
    {
     "data": {
      "text/plain": [
       "(0, 165000000)"
      ]
     },
     "execution_count": 258,
     "metadata": {},
     "output_type": "execute_result"
    },
    {
     "data": {
      "image/png": "[encoded data removed]",
      "text/plain": [
       "<Figure size 1440x360 with 4 Axes>"
      ]
     },
     "metadata": {},
     "output_type": "display_data"
    }
   ],
   "source": [
    "new_figure = plt.figure(figsize=(20,5))\n",
    "\n",
    "# Add a subplot to the figure - a new axes\n",
    "ax1 = new_figure.add_subplot(141)\n",
    "\n",
    "# Add a second subplot to the figure - a new axes\n",
    "ax2 = new_figure.add_subplot(142)\n",
    "ax3 = new_figure.add_subplot(143)\n",
    "ax4 = new_figure.add_subplot(144)\n",
    "\n",
    "sns.barplot(x='month', y='median', data= gross_month1980, ax=ax1)\n",
    "sns.barplot(x='month', y='median', data= gross_month1990, ax=ax2)\n",
    "sns.barplot(x='month', y='median', data= gross_month2000, ax=ax3)\n",
    "sns.barplot(x='month', y='median', data= gross_month2010, ax=ax4)\n",
    "\n",
    "\n",
    "\n",
    "ax1.set_ylim(0,165000000)\n",
    "ax2.set_ylim(0,165000000)\n",
    "ax3.set_ylim(0,165000000)\n",
    "ax4.set_ylim(0,165000000)"
   ]
  },
  {
   "cell_type": "code",
   "execution_count": 215,
   "metadata": {},
   "outputs": [
    {
     "ename": "SyntaxError",
     "evalue": "invalid syntax (<ipython-input-215-d9ad9e72bcc9>, line 3)",
     "output_type": "error",
     "traceback": [
      "\u001b[0;36m  File \u001b[0;32m\"<ipython-input-215-d9ad9e72bcc9>\"\u001b[0;36m, line \u001b[0;32m3\u001b[0m\n\u001b[0;31m    ax1 = new_figure.add_subplot(141)\u001b[0m\n\u001b[0m      ^\u001b[0m\n\u001b[0;31mSyntaxError\u001b[0m\u001b[0;31m:\u001b[0m invalid syntax\n"
     ]
    }
   ],
   "source": [
    "new_figure = plt.figure(figsize=(30,10)\n",
    "# Add a subplot to the figure - a new axes\n",
    "ax1 = new_figure.add_subplot(141)\n",
    "ax2 = new_figure.add_subplot(142)\n",
    "ax3 = new_figure.add_subplot(143)\n",
    "ax4 = new_figure.add_subplot(144)\n",
    "\n",
    "sns.barplot(x = 'month', y = 'count', data=gross_month, ax =ax1)\n",
    "sns.barplot(x='month', y = 'median', data= gross_month, ax=ax2)\n",
    "\n",
    "\n",
    "ax1.set_title('Number of Releases per month')\n",
    "ax2.set_title('Average Gross per month')"
   ]
  },
  {
   "cell_type": "code",
   "execution_count": 208,
   "metadata": {
    "scrolled": false
   },
   "outputs": [
    {
     "data": {
      "text/plain": [
       "Text(0.5, 1.0, 'Average Gross per month')"
      ]
     },
     "execution_count": 208,
     "metadata": {},
     "output_type": "execute_result"
    },
    {
     "data": {
      "image/png": "[encoded data removed]",
      "text/plain": [
       "<Figure size 2160x720 with 2 Axes>"
      ]
     },
     "metadata": {},
     "output_type": "display_data"
    }
   ],
   "source": [
    "new_figure = plt.figure(figsize=(30,10),)\n",
    "# Add a subplot to the figure - a new axes\n",
    "ax1 = new_figure.add_subplot(141)\n",
    "ax2 = new_figure.add_subplot(142)\n",
    "\n",
    "sns.barplot(x = 'month', y = 'count', data=gross_month, ax =ax1)\n",
    "sns.barplot(x='month', y = 'median', data= gross_month, ax=ax2)\n",
    "\n",
    "\n",
    "ax1.set_title('Number of Releases per month')\n",
    "ax2.set_title('Average Gross per month')"
   ]
  },
  {
   "cell_type": "code",
   "execution_count": null,
   "metadata": {},
   "outputs": [],
   "source": [
    "new_figure = plt.figure(figsize=(30,10),)\n",
    "# Add a subplot to the figure - a new axes\n",
    "ax1 = new_figure.add_subplot(141)\n",
    "ax2 = new_figure.add_subplot(142)\n",
    "\n",
    "sns.barplot(x = 'month', y = 'count', data=gross_month, ax =ax1)\n",
    "sns.barplot(x='month', y = 'median', data= gross_month, ax=ax2)\n",
    "\n",
    "\n",
    "ax1.set_title('Number of Releases per month')\n",
    "ax2.set_title('Average Gross per month')"
   ]
  },
  {
   "cell_type": "code",
   "execution_count": 203,
   "metadata": {},
   "outputs": [
    {
     "ename": "NameError",
     "evalue": "name 'median1980' is not defined",
     "output_type": "error",
     "traceback": [
      "\u001b[0;31m---------------------------------------------------------------------------\u001b[0m",
      "\u001b[0;31mNameError\u001b[0m                                 Traceback (most recent call last)",
      "\u001b[0;32m<ipython-input-203-21ce38581c9a>\u001b[0m in \u001b[0;36m<module>\u001b[0;34m\u001b[0m\n\u001b[1;32m      5\u001b[0m \u001b[0max4\u001b[0m \u001b[0;34m=\u001b[0m \u001b[0maxes\u001b[0m\u001b[0;34m[\u001b[0m\u001b[0;36m1\u001b[0m\u001b[0;34m]\u001b[0m\u001b[0;34m[\u001b[0m\u001b[0;36m1\u001b[0m\u001b[0;34m]\u001b[0m\u001b[0;34m\u001b[0m\u001b[0;34m\u001b[0m\u001b[0m\n\u001b[1;32m      6\u001b[0m \u001b[0;34m\u001b[0m\u001b[0m\n\u001b[0;32m----> 7\u001b[0;31m \u001b[0msns\u001b[0m\u001b[0;34m.\u001b[0m\u001b[0mbarplot\u001b[0m\u001b[0;34m(\u001b[0m\u001b[0mx\u001b[0m\u001b[0;34m=\u001b[0m\u001b[0;34m'day'\u001b[0m\u001b[0;34m,\u001b[0m\u001b[0my\u001b[0m\u001b[0;34m=\u001b[0m\u001b[0;34m'worldwide_gross'\u001b[0m\u001b[0;34m,\u001b[0m\u001b[0mdata\u001b[0m\u001b[0;34m=\u001b[0m\u001b[0mmedian1980\u001b[0m\u001b[0;34m,\u001b[0m \u001b[0max\u001b[0m \u001b[0;34m=\u001b[0m \u001b[0max1\u001b[0m\u001b[0;34m)\u001b[0m\u001b[0;34m\u001b[0m\u001b[0;34m\u001b[0m\u001b[0m\n\u001b[0m\u001b[1;32m      8\u001b[0m \u001b[0msns\u001b[0m\u001b[0;34m.\u001b[0m\u001b[0mbarplot\u001b[0m\u001b[0;34m(\u001b[0m\u001b[0mx\u001b[0m\u001b[0;34m=\u001b[0m\u001b[0;34m'day'\u001b[0m\u001b[0;34m,\u001b[0m\u001b[0my\u001b[0m\u001b[0;34m=\u001b[0m\u001b[0;34m'worldwide_gross'\u001b[0m\u001b[0;34m,\u001b[0m\u001b[0mdata\u001b[0m\u001b[0;34m=\u001b[0m\u001b[0mmedian1990\u001b[0m\u001b[0;34m,\u001b[0m \u001b[0max\u001b[0m \u001b[0;34m=\u001b[0m \u001b[0max2\u001b[0m\u001b[0;34m)\u001b[0m\u001b[0;34m\u001b[0m\u001b[0;34m\u001b[0m\u001b[0m\n\u001b[1;32m      9\u001b[0m \u001b[0msns\u001b[0m\u001b[0;34m.\u001b[0m\u001b[0mbarplot\u001b[0m\u001b[0;34m(\u001b[0m\u001b[0mx\u001b[0m\u001b[0;34m=\u001b[0m\u001b[0;34m'day'\u001b[0m\u001b[0;34m,\u001b[0m\u001b[0my\u001b[0m\u001b[0;34m=\u001b[0m\u001b[0;34m'worldwide_gross'\u001b[0m\u001b[0;34m,\u001b[0m\u001b[0mdata\u001b[0m\u001b[0;34m=\u001b[0m\u001b[0mmedian2000\u001b[0m\u001b[0;34m,\u001b[0m \u001b[0max\u001b[0m \u001b[0;34m=\u001b[0m \u001b[0max3\u001b[0m\u001b[0;34m)\u001b[0m\u001b[0;34m\u001b[0m\u001b[0;34m\u001b[0m\u001b[0m\n",
      "\u001b[0;31mNameError\u001b[0m: name 'median1980' is not defined"
     ]
    },
    {
     "data": {
      "image/png": "[encoded data removed]",
      "text/plain": [
       "<Figure size 1080x1080 with 4 Axes>"
      ]
     },
     "metadata": {},
     "output_type": "display_data"
    }
   ],
   "source": [
    "fig, axes=plt.subplots(nrows=2, ncols=2, figsize=(15,15))\n",
    "ax1 = axes[0][0]\n",
    "ax2 = axes[0][1]\n",
    "ax3 = axes[1][0]\n",
    "ax4 = axes[1][1]\n",
    "\n",
    "sns.barplot(x='day',y='worldwide_gross',data=median1980, ax = ax1)\n",
    "sns.barplot(x='day',y='worldwide_gross',data=median1990, ax = ax2)\n",
    "sns.barplot(x='day',y='worldwide_gross',data=median2000, ax = ax3)\n",
    "sns.barplot(x='day',y='worldwide_gross',data=median2010, ax = ax4)\n",
    "ax1.set_title('1980s')\n",
    "ax2.set_title('1990s')\n",
    "ax3.set_title('2000s')\n",
    "ax4.set_title('2010s')\n",
    "\n",
    "ax1.set_xlabel('Day of Week')\n",
    "ax2.set_xlabel('Day of Week')\n",
    "ax3.set_xlabel('Day of Week')\n",
    "ax4.set_xlabel('Day of Week')\n",
    "\n"
   ]
  },
  {
   "cell_type": "code",
   "execution_count": 56,
   "metadata": {},
   "outputs": [],
   "source": [
    "gross_decades = pd.DataFrame(df.groupby(['decades','day'])['markup'].agg(['median','sum','count','mean']))\n",
    "gross_decades.reset_index(inplace = True)"
   ]
  },
  {
   "cell_type": "code",
   "execution_count": 58,
   "metadata": {},
   "outputs": [
    {
     "data": {
      "text/html": [
       "<div>\n",
       "<style scoped>\n",
       "    .dataframe tbody tr th:only-of-type {\n",
       "        vertical-align: middle;\n",
       "    }\n",
       "\n",
       "    .dataframe tbody tr th {\n",
       "        vertical-align: top;\n",
       "    }\n",
       "\n",
       "    .dataframe thead th {\n",
       "        text-align: right;\n",
       "    }\n",
       "</style>\n",
       "<table border=\"1\" class=\"dataframe\">\n",
       "  <thead>\n",
       "    <tr style=\"text-align: right;\">\n",
       "      <th></th>\n",
       "      <th>decades</th>\n",
       "      <th>day</th>\n",
       "      <th>median</th>\n",
       "      <th>sum</th>\n",
       "      <th>count</th>\n",
       "      <th>mean</th>\n",
       "    </tr>\n",
       "  </thead>\n",
       "  <tbody>\n",
       "    <tr>\n",
       "      <td>0</td>\n",
       "      <td>0</td>\n",
       "      <td>Friday</td>\n",
       "      <td>0.969072</td>\n",
       "      <td>4184.149457</td>\n",
       "      <td>1511</td>\n",
       "      <td>2.769126</td>\n",
       "    </tr>\n",
       "    <tr>\n",
       "      <td>1</td>\n",
       "      <td>0</td>\n",
       "      <td>Monday</td>\n",
       "      <td>-1.000000</td>\n",
       "      <td>-13.651308</td>\n",
       "      <td>22</td>\n",
       "      <td>-0.620514</td>\n",
       "    </tr>\n",
       "    <tr>\n",
       "      <td>2</td>\n",
       "      <td>0</td>\n",
       "      <td>Saturday</td>\n",
       "      <td>-1.000000</td>\n",
       "      <td>-8.861309</td>\n",
       "      <td>17</td>\n",
       "      <td>-0.521253</td>\n",
       "    </tr>\n",
       "    <tr>\n",
       "      <td>3</td>\n",
       "      <td>0</td>\n",
       "      <td>Sunday</td>\n",
       "      <td>-0.121996</td>\n",
       "      <td>14.860649</td>\n",
       "      <td>12</td>\n",
       "      <td>1.238387</td>\n",
       "    </tr>\n",
       "    <tr>\n",
       "      <td>4</td>\n",
       "      <td>0</td>\n",
       "      <td>Thursday</td>\n",
       "      <td>-0.830415</td>\n",
       "      <td>21.830361</td>\n",
       "      <td>48</td>\n",
       "      <td>0.454799</td>\n",
       "    </tr>\n",
       "    <tr>\n",
       "      <td>...</td>\n",
       "      <td>...</td>\n",
       "      <td>...</td>\n",
       "      <td>...</td>\n",
       "      <td>...</td>\n",
       "      <td>...</td>\n",
       "      <td>...</td>\n",
       "    </tr>\n",
       "    <tr>\n",
       "      <td>63</td>\n",
       "      <td>9</td>\n",
       "      <td>Wednesday</td>\n",
       "      <td>1.307692</td>\n",
       "      <td>1.307692</td>\n",
       "      <td>1</td>\n",
       "      <td>1.307692</td>\n",
       "    </tr>\n",
       "    <tr>\n",
       "      <td>64</td>\n",
       "      <td>10</td>\n",
       "      <td>Friday</td>\n",
       "      <td>29.000000</td>\n",
       "      <td>29.000000</td>\n",
       "      <td>1</td>\n",
       "      <td>29.000000</td>\n",
       "    </tr>\n",
       "    <tr>\n",
       "      <td>65</td>\n",
       "      <td>10</td>\n",
       "      <td>Monday</td>\n",
       "      <td>99.000000</td>\n",
       "      <td>99.000000</td>\n",
       "      <td>1</td>\n",
       "      <td>99.000000</td>\n",
       "    </tr>\n",
       "    <tr>\n",
       "      <td>66</td>\n",
       "      <td>10</td>\n",
       "      <td>Sunday</td>\n",
       "      <td>39.000000</td>\n",
       "      <td>39.000000</td>\n",
       "      <td>1</td>\n",
       "      <td>39.000000</td>\n",
       "    </tr>\n",
       "    <tr>\n",
       "      <td>67</td>\n",
       "      <td>10</td>\n",
       "      <td>Tuesday</td>\n",
       "      <td>-1.000000</td>\n",
       "      <td>-1.000000</td>\n",
       "      <td>1</td>\n",
       "      <td>-1.000000</td>\n",
       "    </tr>\n",
       "  </tbody>\n",
       "</table>\n",
       "<p>68 rows × 6 columns</p>\n",
       "</div>"
      ],
      "text/plain": [
       "    decades        day     median          sum  count       mean\n",
       "0         0     Friday   0.969072  4184.149457   1511   2.769126\n",
       "1         0     Monday  -1.000000   -13.651308     22  -0.620514\n",
       "2         0   Saturday  -1.000000    -8.861309     17  -0.521253\n",
       "3         0     Sunday  -0.121996    14.860649     12   1.238387\n",
       "4         0   Thursday  -0.830415    21.830361     48   0.454799\n",
       "..      ...        ...        ...          ...    ...        ...\n",
       "63        9  Wednesday   1.307692     1.307692      1   1.307692\n",
       "64       10     Friday  29.000000    29.000000      1  29.000000\n",
       "65       10     Monday  99.000000    99.000000      1  99.000000\n",
       "66       10     Sunday  39.000000    39.000000      1  39.000000\n",
       "67       10    Tuesday  -1.000000    -1.000000      1  -1.000000\n",
       "\n",
       "[68 rows x 6 columns]"
      ]
     },
     "execution_count": 58,
     "metadata": {},
     "output_type": "execute_result"
    }
   ],
   "source": [
    "gross_decades"
   ]
  },
  {
   "cell_type": "code",
   "execution_count": 209,
   "metadata": {},
   "outputs": [],
   "source": [
    "%store -r df2010\n",
    "%store -r df2000\n",
    "%store -r df1990\n",
    "%store -r df1980\n"
   ]
  },
  {
   "cell_type": "code",
   "execution_count": 166,
   "metadata": {},
   "outputs": [],
   "source": [
    "gross2010 = pd.DataFrame(df2010.groupby(['daynumber'])['worldwide_gross'].agg(['median','sum','count','mean']))\n",
    "gross2010.reset_index(inplace = True)"
   ]
  },
  {
   "cell_type": "code",
   "execution_count": 167,
   "metadata": {},
   "outputs": [],
   "source": [
    "gross2000 = pd.DataFrame(df2000.groupby(['daynumber'])['worldwide_gross'].agg(['median','sum','count','mean']))\n",
    "gross2000.reset_index(inplace = True)"
   ]
  },
  {
   "cell_type": "code",
   "execution_count": 168,
   "metadata": {},
   "outputs": [],
   "source": [
    "gross1990 = pd.DataFrame(df1990.groupby(['daynumber'])['worldwide_gross'].agg(['median','sum','count','mean']))\n",
    "gross1990.reset_index(inplace = True)"
   ]
  },
  {
   "cell_type": "code",
   "execution_count": 169,
   "metadata": {},
   "outputs": [],
   "source": [
    "gross1980= pd.DataFrame(df1980.groupby(['daynumber'])['worldwide_gross'].agg(['median','sum','count','mean']))\n",
    "gross1980.reset_index(inplace = True)"
   ]
  },
  {
   "cell_type": "code",
   "execution_count": 170,
   "metadata": {},
   "outputs": [
    {
     "data": {
      "text/html": [
       "<div>\n",
       "<style scoped>\n",
       "    .dataframe tbody tr th:only-of-type {\n",
       "        vertical-align: middle;\n",
       "    }\n",
       "\n",
       "    .dataframe tbody tr th {\n",
       "        vertical-align: top;\n",
       "    }\n",
       "\n",
       "    .dataframe thead th {\n",
       "        text-align: right;\n",
       "    }\n",
       "</style>\n",
       "<table border=\"1\" class=\"dataframe\">\n",
       "  <thead>\n",
       "    <tr style=\"text-align: right;\">\n",
       "      <th></th>\n",
       "      <th>daynumber</th>\n",
       "      <th>median</th>\n",
       "      <th>sum</th>\n",
       "      <th>count</th>\n",
       "      <th>mean</th>\n",
       "    </tr>\n",
       "  </thead>\n",
       "  <tbody>\n",
       "    <tr>\n",
       "      <td>0</td>\n",
       "      <td>0</td>\n",
       "      <td>0.0</td>\n",
       "      <td>0</td>\n",
       "      <td>2</td>\n",
       "      <td>0.000000e+00</td>\n",
       "    </tr>\n",
       "    <tr>\n",
       "      <td>1</td>\n",
       "      <td>1</td>\n",
       "      <td>8720912.5</td>\n",
       "      <td>324576379</td>\n",
       "      <td>6</td>\n",
       "      <td>5.409606e+07</td>\n",
       "    </tr>\n",
       "    <tr>\n",
       "      <td>2</td>\n",
       "      <td>2</td>\n",
       "      <td>54505771.5</td>\n",
       "      <td>6146653473</td>\n",
       "      <td>52</td>\n",
       "      <td>1.182049e+08</td>\n",
       "    </tr>\n",
       "    <tr>\n",
       "      <td>3</td>\n",
       "      <td>3</td>\n",
       "      <td>4000000.0</td>\n",
       "      <td>291536123</td>\n",
       "      <td>7</td>\n",
       "      <td>4.164802e+07</td>\n",
       "    </tr>\n",
       "    <tr>\n",
       "      <td>4</td>\n",
       "      <td>4</td>\n",
       "      <td>25375219.0</td>\n",
       "      <td>14593779323</td>\n",
       "      <td>230</td>\n",
       "      <td>6.345121e+07</td>\n",
       "    </tr>\n",
       "  </tbody>\n",
       "</table>\n",
       "</div>"
      ],
      "text/plain": [
       "   daynumber      median          sum  count          mean\n",
       "0          0         0.0            0      2  0.000000e+00\n",
       "1          1   8720912.5    324576379      6  5.409606e+07\n",
       "2          2  54505771.5   6146653473     52  1.182049e+08\n",
       "3          3   4000000.0    291536123      7  4.164802e+07\n",
       "4          4  25375219.0  14593779323    230  6.345121e+07"
      ]
     },
     "execution_count": 170,
     "metadata": {},
     "output_type": "execute_result"
    }
   ],
   "source": [
    "gross1980.head()"
   ]
  },
  {
   "cell_type": "code",
   "execution_count": 177,
   "metadata": {},
   "outputs": [
    {
     "data": {
      "text/plain": [
       "Text(0, 0.5, '')"
      ]
     },
     "execution_count": 177,
     "metadata": {},
     "output_type": "execute_result"
    },
    {
     "data": {
      "image/png": "[encoded data removed]",
      "text/plain": [
       "<Figure size 1440x360 with 4 Axes>"
      ]
     },
     "metadata": {},
     "output_type": "display_data"
    }
   ],
   "source": [
    "new_figure = plt.figure(figsize=(20,5))\n",
    "\n",
    "# Add a subplot to the figure - a new axes\n",
    "ax1 = new_figure.add_subplot(141)\n",
    "\n",
    "# Add a second subplot to the figure - a new axes\n",
    "ax2 = new_figure.add_subplot(142)\n",
    "ax3 = new_figure.add_subplot(143)\n",
    "ax4 = new_figure.add_subplot(144)\n",
    "\n",
    "sns.barplot(x='daynumber',y='median',data=gross1980, ax = ax1,  color = 'blue')\n",
    "sns.barplot(x='daynumber',y='median',data=gross1990, ax = ax2, color = 'red')\n",
    "sns.barplot(x='daynumber',y='median',data=gross2000, ax = ax3, color = 'green')\n",
    "sns.barplot(x='daynumber',y='median',data=gross2010, ax = ax4, color = 'orange')\n",
    "ax1.set_title('1980s')\n",
    "ax2.set_title('1990s')\n",
    "ax3.set_title('2000s')\n",
    "ax4.set_title('2010s')\n",
    "\n",
    "ax1.set_xlabel('Month')\n",
    "ax2.set_xlabel('Month')\n",
    "ax3.set_xlabel('Month')\n",
    "ax4.set_xlabel('Month')\n",
    "ax1.set_ylim(0,70000000.0)\n",
    "ax2.set_ylim(0,70000000.0)\n",
    "ax3.set_ylim(0,70000000.0)\n",
    "ax4.set_ylim(0,70000000.0)\n",
    "\n",
    "\n",
    "ax1.set_ylabel('Average Gross (100s Million USD)')\n",
    "ax2.set_ylabel('')\n",
    "ax3.set_ylabel('')\n",
    "ax4.set_ylabel('')"
   ]
  },
  {
   "cell_type": "code",
   "execution_count": 138,
   "metadata": {},
   "outputs": [
    {
     "data": {
      "text/html": [
       "<div>\n",
       "<style scoped>\n",
       "    .dataframe tbody tr th:only-of-type {\n",
       "        vertical-align: middle;\n",
       "    }\n",
       "\n",
       "    .dataframe tbody tr th {\n",
       "        vertical-align: top;\n",
       "    }\n",
       "\n",
       "    .dataframe thead th {\n",
       "        text-align: right;\n",
       "    }\n",
       "</style>\n",
       "<table border=\"1\" class=\"dataframe\">\n",
       "  <thead>\n",
       "    <tr style=\"text-align: right;\">\n",
       "      <th></th>\n",
       "      <th>month</th>\n",
       "      <th>median</th>\n",
       "      <th>sum</th>\n",
       "      <th>count</th>\n",
       "      <th>mean</th>\n",
       "    </tr>\n",
       "  </thead>\n",
       "  <tbody>\n",
       "    <tr>\n",
       "      <td>0</td>\n",
       "      <td>1</td>\n",
       "      <td>10013789.5</td>\n",
       "      <td>759210020</td>\n",
       "      <td>48</td>\n",
       "      <td>1.581688e+07</td>\n",
       "    </tr>\n",
       "    <tr>\n",
       "      <td>1</td>\n",
       "      <td>2</td>\n",
       "      <td>23360779.0</td>\n",
       "      <td>2631689535</td>\n",
       "      <td>61</td>\n",
       "      <td>4.314245e+07</td>\n",
       "    </tr>\n",
       "    <tr>\n",
       "      <td>2</td>\n",
       "      <td>3</td>\n",
       "      <td>24355762.0</td>\n",
       "      <td>3727992660</td>\n",
       "      <td>75</td>\n",
       "      <td>4.970657e+07</td>\n",
       "    </tr>\n",
       "    <tr>\n",
       "      <td>3</td>\n",
       "      <td>4</td>\n",
       "      <td>22032635.0</td>\n",
       "      <td>2420842882</td>\n",
       "      <td>65</td>\n",
       "      <td>3.724374e+07</td>\n",
       "    </tr>\n",
       "    <tr>\n",
       "      <td>4</td>\n",
       "      <td>5</td>\n",
       "      <td>26936265.0</td>\n",
       "      <td>9254030595</td>\n",
       "      <td>73</td>\n",
       "      <td>1.267675e+08</td>\n",
       "    </tr>\n",
       "    <tr>\n",
       "      <td>5</td>\n",
       "      <td>6</td>\n",
       "      <td>149488425.5</td>\n",
       "      <td>12542103521</td>\n",
       "      <td>74</td>\n",
       "      <td>1.694879e+08</td>\n",
       "    </tr>\n",
       "    <tr>\n",
       "      <td>6</td>\n",
       "      <td>7</td>\n",
       "      <td>71743823.0</td>\n",
       "      <td>11584463872</td>\n",
       "      <td>85</td>\n",
       "      <td>1.362878e+08</td>\n",
       "    </tr>\n",
       "    <tr>\n",
       "      <td>7</td>\n",
       "      <td>8</td>\n",
       "      <td>21171695.0</td>\n",
       "      <td>4708636398</td>\n",
       "      <td>91</td>\n",
       "      <td>5.174326e+07</td>\n",
       "    </tr>\n",
       "    <tr>\n",
       "      <td>8</td>\n",
       "      <td>9</td>\n",
       "      <td>15471969.0</td>\n",
       "      <td>3372136101</td>\n",
       "      <td>81</td>\n",
       "      <td>4.163131e+07</td>\n",
       "    </tr>\n",
       "    <tr>\n",
       "      <td>9</td>\n",
       "      <td>10</td>\n",
       "      <td>15900113.0</td>\n",
       "      <td>4351432485</td>\n",
       "      <td>108</td>\n",
       "      <td>4.029104e+07</td>\n",
       "    </tr>\n",
       "    <tr>\n",
       "      <td>10</td>\n",
       "      <td>11</td>\n",
       "      <td>65448263.5</td>\n",
       "      <td>12121885400</td>\n",
       "      <td>98</td>\n",
       "      <td>1.236927e+08</td>\n",
       "    </tr>\n",
       "    <tr>\n",
       "      <td>11</td>\n",
       "      <td>12</td>\n",
       "      <td>63118386.0</td>\n",
       "      <td>13960065845</td>\n",
       "      <td>123</td>\n",
       "      <td>1.134965e+08</td>\n",
       "    </tr>\n",
       "  </tbody>\n",
       "</table>\n",
       "</div>"
      ],
      "text/plain": [
       "    month       median          sum  count          mean\n",
       "0       1   10013789.5    759210020     48  1.581688e+07\n",
       "1       2   23360779.0   2631689535     61  4.314245e+07\n",
       "2       3   24355762.0   3727992660     75  4.970657e+07\n",
       "3       4   22032635.0   2420842882     65  3.724374e+07\n",
       "4       5   26936265.0   9254030595     73  1.267675e+08\n",
       "5       6  149488425.5  12542103521     74  1.694879e+08\n",
       "6       7   71743823.0  11584463872     85  1.362878e+08\n",
       "7       8   21171695.0   4708636398     91  5.174326e+07\n",
       "8       9   15471969.0   3372136101     81  4.163131e+07\n",
       "9      10   15900113.0   4351432485    108  4.029104e+07\n",
       "10     11   65448263.5  12121885400     98  1.236927e+08\n",
       "11     12   63118386.0  13960065845    123  1.134965e+08"
      ]
     },
     "execution_count": 138,
     "metadata": {},
     "output_type": "execute_result"
    }
   ],
   "source": [
    "gross1990"
   ]
  },
  {
   "cell_type": "code",
   "execution_count": 147,
   "metadata": {},
   "outputs": [
    {
     "data": {
      "text/plain": [
       "Text(0, 0.5, '')"
      ]
     },
     "execution_count": 147,
     "metadata": {},
     "output_type": "execute_result"
    },
    {
     "data": {
      "image/png": "[encoded data removed]",
      "text/plain": [
       "<Figure size 1440x360 with 4 Axes>"
      ]
     },
     "metadata": {},
     "output_type": "display_data"
    }
   ],
   "source": [
    "new_figure = plt.figure(figsize=(20,5))\n",
    "\n",
    "# Add a subplot to the figure - a new axes\n",
    "ax1 = new_figure.add_subplot(141)\n",
    "\n",
    "# Add a second subplot to the figure - a new axes\n",
    "ax2 = new_figure.add_subplot(142)\n",
    "ax3 = new_figure.add_subplot(143)\n",
    "ax4 = new_figure.add_subplot(144)\n",
    "\n",
    "sns.barplot(x='month',y='count',data=gross1980, ax = ax1,  color = 'blue')\n",
    "sns.barplot(x='month',y='count',data=gross1990, ax = ax2, color = 'red')\n",
    "sns.barplot(x='month',y='count',data=gross2000, ax = ax3, color = 'green')\n",
    "sns.barplot(x='month',y='count',data=gross2010, ax = ax4, color = 'orange')\n",
    "ax1.set_title('1980s')\n",
    "ax2.set_title('1990s')\n",
    "ax3.set_title('2000s')\n",
    "ax4.set_title('2010s')\n",
    "\n",
    "ax1.set_xlabel('Month')\n",
    "ax2.set_xlabel('Month')\n",
    "ax3.set_xlabel('Month')\n",
    "ax4.set_xlabel('Month')\n",
    "ax1.set_ylim(0,300)\n",
    "ax2.set_ylim(0,300)\n",
    "ax3.set_ylim(0,300)\n",
    "ax4.set_ylim(0,300)\n",
    "\n",
    "ax1.set_ylabel('Number of Movies Released')\n",
    "ax2.set_ylabel('')\n",
    "ax3.set_ylabel('')\n",
    "ax4.set_ylabel('')"
   ]
  },
  {
   "cell_type": "code",
   "execution_count": 153,
   "metadata": {},
   "outputs": [
    {
     "data": {
      "text/plain": [
       "Text(0, 0.5, '')"
      ]
     },
     "execution_count": 153,
     "metadata": {},
     "output_type": "execute_result"
    },
    {
     "data": {
      "image/png": "[encoded data removed]",
      "text/plain": [
       "<Figure size 1440x360 with 4 Axes>"
      ]
     },
     "metadata": {},
     "output_type": "display_data"
    }
   ],
   "source": [
    "new_figure = plt.figure(figsize=(20,5))\n",
    "\n",
    "# Add a subplot to the figure - a new axes\n",
    "ax1 = new_figure.add_subplot(141)\n",
    "\n",
    "# Add a second subplot to the figure - a new axes\n",
    "ax2 = new_figure.add_subplot(142)\n",
    "ax3 = new_figure.add_subplot(143)\n",
    "ax4 = new_figure.add_subplot(144)\n",
    "\n",
    "sns.barplot(x='month',y='mean',data=gross1980, ax = ax1,  color = 'blue')\n",
    "sns.barplot(x='month',y='mean',data=gross1990, ax = ax2, color = 'red')\n",
    "sns.barplot(x='month',y='mean',data=gross2000, ax = ax3, color = 'green')\n",
    "sns.barplot(x='month',y='mean',data=gross2010, ax = ax4, color = 'orange')\n",
    "ax1.set_title('1980s')\n",
    "ax2.set_title('1990s')\n",
    "ax3.set_title('2000s')\n",
    "ax4.set_title('2010s')\n",
    "\n",
    "ax1.set_xlabel('Month')\n",
    "ax2.set_xlabel('Month')\n",
    "ax3.set_xlabel('Month')\n",
    "ax4.set_xlabel('Month')\n",
    "ax1.set_ylim(0,200000000.0)\n",
    "ax2.set_ylim(0,200000000.0)\n",
    "ax3.set_ylim(0,200000000.0)\n",
    "ax4.set_ylim(0,200000000.0)\n",
    "\n",
    "\n",
    "ax1.set_ylabel('Average Gross (100s Million USD)')\n",
    "ax2.set_ylabel('')\n",
    "ax3.set_ylabel('')\n",
    "ax4.set_ylabel('')"
   ]
  },
  {
   "cell_type": "code",
   "execution_count": 158,
   "metadata": {},
   "outputs": [
    {
     "data": {
      "text/plain": [
       "Text(0, 0.5, '')"
      ]
     },
     "execution_count": 158,
     "metadata": {},
     "output_type": "execute_result"
    },
    {
     "data": {
      "image/png": "[encoded data removed]",
      "text/plain": [
       "<Figure size 1440x360 with 4 Axes>"
      ]
     },
     "metadata": {},
     "output_type": "display_data"
    }
   ],
   "source": [
    "new_figure = plt.figure(figsize=(20,5))\n",
    "\n",
    "# Add a subplot to the figure - a new axes\n",
    "ax1 = new_figure.add_subplot(141)\n",
    "\n",
    "# Add a second subplot to the figure - a new axes\n",
    "ax2 = new_figure.add_subplot(142)\n",
    "ax3 = new_figure.add_subplot(143)\n",
    "ax4 = new_figure.add_subplot(144)\n",
    "\n",
    "sns.barplot(x='month',y='sum',data=gross1980, ax = ax1,  color = 'blue')\n",
    "sns.barplot(x='month',y='sum',data=gross1990, ax = ax2, color = 'red')\n",
    "sns.barplot(x='month',y='sum',data=gross2000, ax = ax3, color = 'green')\n",
    "sns.barplot(x='month',y='sum',data=gross2010, ax = ax4, color = 'orange')\n",
    "ax1.set_title('1980s')\n",
    "ax2.set_title('1990s')\n",
    "ax3.set_title('2000s')\n",
    "ax4.set_title('2010s')\n",
    "\n",
    "ax1.set_xlabel('Month')\n",
    "ax2.set_xlabel('Month')\n",
    "ax3.set_xlabel('Month')\n",
    "ax4.set_xlabel('Month')\n",
    "# ax1.set_ylim(0,00000000.0)\n",
    "# ax2.set_ylim(0,200000000.0)\n",
    "# ax3.set_ylim(0,200000000.0)\n",
    "# ax4.set_ylim(0,200000000.0)\n",
    "\n",
    "\n",
    "ax1.set_ylabel('Average Gross (100s Million USD)')\n",
    "ax2.set_ylabel('')\n",
    "ax3.set_ylabel('')\n",
    "ax4.set_ylabel('')"
   ]
  },
  {
   "cell_type": "markdown",
   "metadata": {},
   "source": [
    "# Month of Release for the top 500 Movie by markup"
   ]
  },
  {
   "cell_type": "code",
   "execution_count": 183,
   "metadata": {},
   "outputs": [],
   "source": [
    "top500markup = df.sort_values(by = 'markup', ascending = False)[:500]"
   ]
  },
  {
   "cell_type": "code",
   "execution_count": 184,
   "metadata": {},
   "outputs": [
    {
     "data": {
      "text/html": [
       "<div>\n",
       "<style scoped>\n",
       "    .dataframe tbody tr th:only-of-type {\n",
       "        vertical-align: middle;\n",
       "    }\n",
       "\n",
       "    .dataframe tbody tr th {\n",
       "        vertical-align: top;\n",
       "    }\n",
       "\n",
       "    .dataframe thead th {\n",
       "        text-align: right;\n",
       "    }\n",
       "</style>\n",
       "<table border=\"1\" class=\"dataframe\">\n",
       "  <thead>\n",
       "    <tr style=\"text-align: right;\">\n",
       "      <th></th>\n",
       "      <th>id</th>\n",
       "      <th>release_date</th>\n",
       "      <th>movie</th>\n",
       "      <th>production_budget</th>\n",
       "      <th>domestic_gross</th>\n",
       "      <th>worldwide_gross</th>\n",
       "      <th>year_released</th>\n",
       "      <th>age</th>\n",
       "      <th>decades</th>\n",
       "      <th>day</th>\n",
       "      <th>daynumber</th>\n",
       "      <th>month</th>\n",
       "      <th>markup</th>\n",
       "      <th>profitmargin</th>\n",
       "      <th>netprofit</th>\n",
       "    </tr>\n",
       "  </thead>\n",
       "  <tbody>\n",
       "    <tr>\n",
       "      <td>5745</td>\n",
       "      <td>46</td>\n",
       "      <td>1972-06-30</td>\n",
       "      <td>Deep Throat</td>\n",
       "      <td>25000</td>\n",
       "      <td>45000000</td>\n",
       "      <td>45000000</td>\n",
       "      <td>1972</td>\n",
       "      <td>48</td>\n",
       "      <td>4</td>\n",
       "      <td>Friday</td>\n",
       "      <td>4</td>\n",
       "      <td>6</td>\n",
       "      <td>1799.000000</td>\n",
       "      <td>0.999444</td>\n",
       "      <td>44975000</td>\n",
       "    </tr>\n",
       "    <tr>\n",
       "      <td>5613</td>\n",
       "      <td>14</td>\n",
       "      <td>1980-03-21</td>\n",
       "      <td>Mad Max</td>\n",
       "      <td>200000</td>\n",
       "      <td>8750000</td>\n",
       "      <td>99750000</td>\n",
       "      <td>1980</td>\n",
       "      <td>40</td>\n",
       "      <td>4</td>\n",
       "      <td>Friday</td>\n",
       "      <td>4</td>\n",
       "      <td>3</td>\n",
       "      <td>497.750000</td>\n",
       "      <td>0.997995</td>\n",
       "      <td>99550000</td>\n",
       "    </tr>\n",
       "    <tr>\n",
       "      <td>5492</td>\n",
       "      <td>93</td>\n",
       "      <td>2009-09-25</td>\n",
       "      <td>Paranormal Activity</td>\n",
       "      <td>450000</td>\n",
       "      <td>107918810</td>\n",
       "      <td>194183034</td>\n",
       "      <td>2009</td>\n",
       "      <td>11</td>\n",
       "      <td>1</td>\n",
       "      <td>Friday</td>\n",
       "      <td>4</td>\n",
       "      <td>9</td>\n",
       "      <td>430.517853</td>\n",
       "      <td>0.997683</td>\n",
       "      <td>193733034</td>\n",
       "    </tr>\n",
       "    <tr>\n",
       "      <td>5679</td>\n",
       "      <td>80</td>\n",
       "      <td>2015-07-10</td>\n",
       "      <td>The Gallows</td>\n",
       "      <td>100000</td>\n",
       "      <td>22764410</td>\n",
       "      <td>41656474</td>\n",
       "      <td>2015</td>\n",
       "      <td>5</td>\n",
       "      <td>0</td>\n",
       "      <td>Friday</td>\n",
       "      <td>4</td>\n",
       "      <td>7</td>\n",
       "      <td>415.564740</td>\n",
       "      <td>0.997599</td>\n",
       "      <td>41556474</td>\n",
       "    </tr>\n",
       "    <tr>\n",
       "      <td>5406</td>\n",
       "      <td>7</td>\n",
       "      <td>1999-07-14</td>\n",
       "      <td>The Blair Witch Project</td>\n",
       "      <td>600000</td>\n",
       "      <td>140539099</td>\n",
       "      <td>248300000</td>\n",
       "      <td>1999</td>\n",
       "      <td>21</td>\n",
       "      <td>2</td>\n",
       "      <td>Wednesday</td>\n",
       "      <td>2</td>\n",
       "      <td>7</td>\n",
       "      <td>412.833333</td>\n",
       "      <td>0.997584</td>\n",
       "      <td>247700000</td>\n",
       "    </tr>\n",
       "  </tbody>\n",
       "</table>\n",
       "</div>"
      ],
      "text/plain": [
       "      id release_date                    movie  production_budget  \\\n",
       "5745  46   1972-06-30              Deep Throat              25000   \n",
       "5613  14   1980-03-21                  Mad Max             200000   \n",
       "5492  93   2009-09-25      Paranormal Activity             450000   \n",
       "5679  80   2015-07-10              The Gallows             100000   \n",
       "5406   7   1999-07-14  The Blair Witch Project             600000   \n",
       "\n",
       "      domestic_gross  worldwide_gross  year_released  age  decades        day  \\\n",
       "5745        45000000         45000000           1972   48        4     Friday   \n",
       "5613         8750000         99750000           1980   40        4     Friday   \n",
       "5492       107918810        194183034           2009   11        1     Friday   \n",
       "5679        22764410         41656474           2015    5        0     Friday   \n",
       "5406       140539099        248300000           1999   21        2  Wednesday   \n",
       "\n",
       "      daynumber  month       markup  profitmargin  netprofit  \n",
       "5745          4      6  1799.000000      0.999444   44975000  \n",
       "5613          4      3   497.750000      0.997995   99550000  \n",
       "5492          4      9   430.517853      0.997683  193733034  \n",
       "5679          4      7   415.564740      0.997599   41556474  \n",
       "5406          2      7   412.833333      0.997584  247700000  "
      ]
     },
     "execution_count": 184,
     "metadata": {},
     "output_type": "execute_result"
    }
   ],
   "source": [
    "top500markup.head()"
   ]
  },
  {
   "cell_type": "markdown",
   "metadata": {},
   "source": [
    "# What month were these films released"
   ]
  },
  {
   "cell_type": "code",
   "execution_count": 186,
   "metadata": {},
   "outputs": [
    {
     "data": {
      "text/plain": [
       "<matplotlib.axes._subplots.AxesSubplot at 0x1a39950080>"
      ]
     },
     "execution_count": 186,
     "metadata": {},
     "output_type": "execute_result"
    },
    {
     "data": {
      "image/png": "[encoded data removed]",
      "text/plain": [
       "<Figure size 432x288 with 1 Axes>"
      ]
     },
     "metadata": {},
     "output_type": "display_data"
    }
   ],
   "source": [
    "top500markup.groupby('month')['movie'].count().plot(kind = 'bar')"
   ]
  },
  {
   "cell_type": "code",
   "execution_count": 187,
   "metadata": {},
   "outputs": [
    {
     "data": {
      "text/plain": [
       "<matplotlib.axes._subplots.AxesSubplot at 0x1a399b79e8>"
      ]
     },
     "execution_count": 187,
     "metadata": {},
     "output_type": "execute_result"
    },
    {
     "data": {
      "image/png": "[encoded data removed]",
      "text/plain": [
       "<Figure size 432x288 with 1 Axes>"
      ]
     },
     "metadata": {},
     "output_type": "display_data"
    }
   ],
   "source": [
    "df.groupby('month')['movie'].count().plot(kind = 'bar')"
   ]
  },
  {
   "cell_type": "code",
   "execution_count": null,
   "metadata": {},
   "outputs": [],
   "source": []
  }
 ],
 "metadata": {
  "kernelspec": {
   "display_name": "Python [conda env:learn-env] *",
   "language": "python",
   "name": "conda-env-learn-env-py"
  },
  "language_info": {
   "codemirror_mode": {
    "name": "ipython",
    "version": 3
   },
   "file_extension": ".py",
   "mimetype": "text/x-python",
   "name": "python",
   "nbconvert_exporter": "python",
   "pygments_lexer": "ipython3",
   "version": "3.6.9"
  }
 },
 "nbformat": 4,
 "nbformat_minor": 2
}
