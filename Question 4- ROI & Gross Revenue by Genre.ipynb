{
 "cells": [
  {
   "cell_type": "code",
   "execution_count": 1,
   "metadata": {},
   "outputs": [],
   "source": [
    "import pandas as pd\n",
    "import seaborn as sns\n",
    "import matplotlib.pyplot as plt"
   ]
  },
  {
   "cell_type": "code",
   "execution_count": 2,
   "metadata": {},
   "outputs": [],
   "source": [
    "df = pd.read_csv('cleandata/randomgenreallocated.csv', index_col = 0)"
   ]
  },
  {
   "cell_type": "code",
   "execution_count": 3,
   "metadata": {},
   "outputs": [
    {
     "data": {
      "text/html": [
       "<div>\n",
       "<style scoped>\n",
       "    .dataframe tbody tr th:only-of-type {\n",
       "        vertical-align: middle;\n",
       "    }\n",
       "\n",
       "    .dataframe tbody tr th {\n",
       "        vertical-align: top;\n",
       "    }\n",
       "\n",
       "    .dataframe thead th {\n",
       "        text-align: right;\n",
       "    }\n",
       "</style>\n",
       "<table border=\"1\" class=\"dataframe\">\n",
       "  <thead>\n",
       "    <tr style=\"text-align: right;\">\n",
       "      <th></th>\n",
       "      <th>id</th>\n",
       "      <th>release_date</th>\n",
       "      <th>movie</th>\n",
       "      <th>production_budget</th>\n",
       "      <th>domestic_gross</th>\n",
       "      <th>worldwide_gross</th>\n",
       "      <th>year_released</th>\n",
       "      <th>age</th>\n",
       "      <th>decades</th>\n",
       "      <th>day</th>\n",
       "      <th>month</th>\n",
       "      <th>markup</th>\n",
       "      <th>profitmargin</th>\n",
       "      <th>netprofit</th>\n",
       "      <th>genres</th>\n",
       "      <th>randomgenre</th>\n",
       "    </tr>\n",
       "  </thead>\n",
       "  <tbody>\n",
       "    <tr>\n",
       "      <td>0</td>\n",
       "      <td>1</td>\n",
       "      <td>2009-12-18</td>\n",
       "      <td>Avatar</td>\n",
       "      <td>425000000</td>\n",
       "      <td>760507625</td>\n",
       "      <td>2776345279</td>\n",
       "      <td>2009</td>\n",
       "      <td>11</td>\n",
       "      <td>1</td>\n",
       "      <td>Friday</td>\n",
       "      <td>12</td>\n",
       "      <td>5.532577</td>\n",
       "      <td>0.846921</td>\n",
       "      <td>2351345279</td>\n",
       "      <td>['Action', 'Adventure', 'Fantasy', 'Science Fi...</td>\n",
       "      <td>Action</td>\n",
       "    </tr>\n",
       "    <tr>\n",
       "      <td>1</td>\n",
       "      <td>2</td>\n",
       "      <td>2011-05-20</td>\n",
       "      <td>Pirates of the Caribbean: On Stranger Tides</td>\n",
       "      <td>410600000</td>\n",
       "      <td>241063875</td>\n",
       "      <td>1045663875</td>\n",
       "      <td>2011</td>\n",
       "      <td>9</td>\n",
       "      <td>0</td>\n",
       "      <td>Friday</td>\n",
       "      <td>5</td>\n",
       "      <td>1.546673</td>\n",
       "      <td>0.607331</td>\n",
       "      <td>635063875</td>\n",
       "      <td>['Action', 'Adventure', 'Fantasy']</td>\n",
       "      <td>Action</td>\n",
       "    </tr>\n",
       "    <tr>\n",
       "      <td>3</td>\n",
       "      <td>4</td>\n",
       "      <td>2015-05-01</td>\n",
       "      <td>Avengers: Age of Ultron</td>\n",
       "      <td>330600000</td>\n",
       "      <td>459005868</td>\n",
       "      <td>1403013963</td>\n",
       "      <td>2015</td>\n",
       "      <td>5</td>\n",
       "      <td>0</td>\n",
       "      <td>Friday</td>\n",
       "      <td>5</td>\n",
       "      <td>3.243841</td>\n",
       "      <td>0.764364</td>\n",
       "      <td>1072413963</td>\n",
       "      <td>['Action', 'Adventure', 'Science Fiction']</td>\n",
       "      <td>Action</td>\n",
       "    </tr>\n",
       "    <tr>\n",
       "      <td>6</td>\n",
       "      <td>7</td>\n",
       "      <td>2018-04-27</td>\n",
       "      <td>Avengers: Infinity War</td>\n",
       "      <td>300000000</td>\n",
       "      <td>678815482</td>\n",
       "      <td>2048134200</td>\n",
       "      <td>2018</td>\n",
       "      <td>2</td>\n",
       "      <td>0</td>\n",
       "      <td>Friday</td>\n",
       "      <td>4</td>\n",
       "      <td>5.827114</td>\n",
       "      <td>0.853525</td>\n",
       "      <td>1748134200</td>\n",
       "      <td>['Action', 'Adventure', 'Fantasy']</td>\n",
       "      <td>Fantasy</td>\n",
       "    </tr>\n",
       "    <tr>\n",
       "      <td>8</td>\n",
       "      <td>9</td>\n",
       "      <td>2017-11-17</td>\n",
       "      <td>Justice League</td>\n",
       "      <td>300000000</td>\n",
       "      <td>229024295</td>\n",
       "      <td>655945209</td>\n",
       "      <td>2017</td>\n",
       "      <td>3</td>\n",
       "      <td>0</td>\n",
       "      <td>Friday</td>\n",
       "      <td>11</td>\n",
       "      <td>1.186484</td>\n",
       "      <td>0.542645</td>\n",
       "      <td>355945209</td>\n",
       "      <td>['Action', 'Adventure', 'Fantasy', 'Science Fi...</td>\n",
       "      <td>Science Fiction</td>\n",
       "    </tr>\n",
       "  </tbody>\n",
       "</table>\n",
       "</div>"
      ],
      "text/plain": [
       "   id release_date                                        movie  \\\n",
       "0   1   2009-12-18                                       Avatar   \n",
       "1   2   2011-05-20  Pirates of the Caribbean: On Stranger Tides   \n",
       "3   4   2015-05-01                      Avengers: Age of Ultron   \n",
       "6   7   2018-04-27                       Avengers: Infinity War   \n",
       "8   9   2017-11-17                               Justice League   \n",
       "\n",
       "   production_budget  domestic_gross  worldwide_gross  year_released  age  \\\n",
       "0          425000000       760507625       2776345279           2009   11   \n",
       "1          410600000       241063875       1045663875           2011    9   \n",
       "3          330600000       459005868       1403013963           2015    5   \n",
       "6          300000000       678815482       2048134200           2018    2   \n",
       "8          300000000       229024295        655945209           2017    3   \n",
       "\n",
       "   decades     day  month    markup  profitmargin   netprofit  \\\n",
       "0        1  Friday     12  5.532577      0.846921  2351345279   \n",
       "1        0  Friday      5  1.546673      0.607331   635063875   \n",
       "3        0  Friday      5  3.243841      0.764364  1072413963   \n",
       "6        0  Friday      4  5.827114      0.853525  1748134200   \n",
       "8        0  Friday     11  1.186484      0.542645   355945209   \n",
       "\n",
       "                                              genres      randomgenre  \n",
       "0  ['Action', 'Adventure', 'Fantasy', 'Science Fi...           Action  \n",
       "1                 ['Action', 'Adventure', 'Fantasy']           Action  \n",
       "3         ['Action', 'Adventure', 'Science Fiction']           Action  \n",
       "6                 ['Action', 'Adventure', 'Fantasy']          Fantasy  \n",
       "8  ['Action', 'Adventure', 'Fantasy', 'Science Fi...  Science Fiction  "
      ]
     },
     "execution_count": 3,
     "metadata": {},
     "output_type": "execute_result"
    }
   ],
   "source": [
    "df.head()"
   ]
  },
  {
   "cell_type": "code",
   "execution_count": 5,
   "metadata": {},
   "outputs": [],
   "source": [
    "# Making sure the null values are gone"
   ]
  },
  {
   "cell_type": "code",
   "execution_count": 6,
   "metadata": {},
   "outputs": [
    {
     "data": {
      "text/plain": [
       "id                   0\n",
       "release_date         0\n",
       "movie                0\n",
       "production_budget    0\n",
       "domestic_gross       0\n",
       "worldwide_gross      0\n",
       "year_released        0\n",
       "age                  0\n",
       "decades              0\n",
       "day                  0\n",
       "month                0\n",
       "markup               0\n",
       "profitmargin         0\n",
       "netprofit            0\n",
       "genres               0\n",
       "randomgenre          0\n",
       "dtype: int64"
      ]
     },
     "execution_count": 6,
     "metadata": {},
     "output_type": "execute_result"
    }
   ],
   "source": [
    "df.isna().sum()"
   ]
  },
  {
   "cell_type": "code",
   "execution_count": 7,
   "metadata": {},
   "outputs": [],
   "source": [
    "# checking number of movies in each genre"
   ]
  },
  {
   "cell_type": "code",
   "execution_count": 8,
   "metadata": {},
   "outputs": [
    {
     "data": {
      "text/plain": [
       "<matplotlib.axes._subplots.AxesSubplot at 0x1a1815fc18>"
      ]
     },
     "execution_count": 8,
     "metadata": {},
     "output_type": "execute_result"
    },
    {
     "data": {
      "image/png": "[encoded data removed]",
      "text/plain": [
       "<Figure size 432x288 with 1 Axes>"
      ]
     },
     "metadata": {
      "needs_background": "light"
     },
     "output_type": "display_data"
    }
   ],
   "source": [
    "df.groupby(['randomgenre'])['movie'].count().sort_values(ascending = False)[:15].plot(kind = 'barh')"
   ]
  },
  {
   "cell_type": "code",
   "execution_count": 8,
   "metadata": {},
   "outputs": [],
   "source": [
    "# Adding a ROI Column"
   ]
  },
  {
   "cell_type": "code",
   "execution_count": 9,
   "metadata": {},
   "outputs": [],
   "source": [
    "df['ROI'] = df['markup']*100"
   ]
  },
  {
   "cell_type": "code",
   "execution_count": 10,
   "metadata": {},
   "outputs": [
    {
     "data": {
      "text/plain": [
       "<matplotlib.axes._subplots.AxesSubplot at 0x1a2445e2e8>"
      ]
     },
     "execution_count": 10,
     "metadata": {},
     "output_type": "execute_result"
    },
    {
     "data": {
      "image/png": "[encoded data removed]",
      "text/plain": [
       "<Figure size 432x288 with 1 Axes>"
      ]
     },
     "metadata": {
      "needs_background": "light"
     },
     "output_type": "display_data"
    }
   ],
   "source": [
    "df['ROI'].hist()"
   ]
  },
  {
   "cell_type": "code",
   "execution_count": 12,
   "metadata": {},
   "outputs": [],
   "source": [
    "# Checking High Markups by Genre - all thriller and horror"
   ]
  },
  {
   "cell_type": "code",
   "execution_count": 13,
   "metadata": {},
   "outputs": [
    {
     "data": {
      "text/html": [
       "<div>\n",
       "<style scoped>\n",
       "    .dataframe tbody tr th:only-of-type {\n",
       "        vertical-align: middle;\n",
       "    }\n",
       "\n",
       "    .dataframe tbody tr th {\n",
       "        vertical-align: top;\n",
       "    }\n",
       "\n",
       "    .dataframe thead th {\n",
       "        text-align: right;\n",
       "    }\n",
       "</style>\n",
       "<table border=\"1\" class=\"dataframe\">\n",
       "  <thead>\n",
       "    <tr style=\"text-align: right;\">\n",
       "      <th></th>\n",
       "      <th>id</th>\n",
       "      <th>release_date</th>\n",
       "      <th>movie</th>\n",
       "      <th>production_budget</th>\n",
       "      <th>domestic_gross</th>\n",
       "      <th>worldwide_gross</th>\n",
       "      <th>year_released</th>\n",
       "      <th>age</th>\n",
       "      <th>decades</th>\n",
       "      <th>day</th>\n",
       "      <th>month</th>\n",
       "      <th>markup</th>\n",
       "      <th>profitmargin</th>\n",
       "      <th>netprofit</th>\n",
       "      <th>genres</th>\n",
       "      <th>randomgenre</th>\n",
       "      <th>ROI</th>\n",
       "    </tr>\n",
       "  </thead>\n",
       "  <tbody>\n",
       "    <tr>\n",
       "      <td>5536</td>\n",
       "      <td>37</td>\n",
       "      <td>1978-10-17</td>\n",
       "      <td>Halloween</td>\n",
       "      <td>325000</td>\n",
       "      <td>47000000</td>\n",
       "      <td>70000000</td>\n",
       "      <td>1978</td>\n",
       "      <td>42</td>\n",
       "      <td>4</td>\n",
       "      <td>Tuesday</td>\n",
       "      <td>10</td>\n",
       "      <td>214.384615</td>\n",
       "      <td>0.995357</td>\n",
       "      <td>69675000</td>\n",
       "      <td>['Horror', 'Thriller']</td>\n",
       "      <td>Thriller</td>\n",
       "      <td>21438.461538</td>\n",
       "    </tr>\n",
       "    <tr>\n",
       "      <td>5676</td>\n",
       "      <td>77</td>\n",
       "      <td>1968-10-01</td>\n",
       "      <td>Night of the Living Dead</td>\n",
       "      <td>114000</td>\n",
       "      <td>12087064</td>\n",
       "      <td>30087064</td>\n",
       "      <td>1968</td>\n",
       "      <td>52</td>\n",
       "      <td>5</td>\n",
       "      <td>Tuesday</td>\n",
       "      <td>10</td>\n",
       "      <td>262.921614</td>\n",
       "      <td>0.996211</td>\n",
       "      <td>29973064</td>\n",
       "      <td>['Horror']</td>\n",
       "      <td>Horror</td>\n",
       "      <td>26292.161404</td>\n",
       "    </tr>\n",
       "    <tr>\n",
       "      <td>5679</td>\n",
       "      <td>80</td>\n",
       "      <td>2015-07-10</td>\n",
       "      <td>The Gallows</td>\n",
       "      <td>100000</td>\n",
       "      <td>22764410</td>\n",
       "      <td>41656474</td>\n",
       "      <td>2015</td>\n",
       "      <td>5</td>\n",
       "      <td>0</td>\n",
       "      <td>Friday</td>\n",
       "      <td>7</td>\n",
       "      <td>415.564740</td>\n",
       "      <td>0.997599</td>\n",
       "      <td>41556474</td>\n",
       "      <td>['Horror', 'Thriller']</td>\n",
       "      <td>Horror</td>\n",
       "      <td>41556.474000</td>\n",
       "    </tr>\n",
       "  </tbody>\n",
       "</table>\n",
       "</div>"
      ],
      "text/plain": [
       "      id release_date                     movie  production_budget  \\\n",
       "5536  37   1978-10-17                 Halloween             325000   \n",
       "5676  77   1968-10-01  Night of the Living Dead             114000   \n",
       "5679  80   2015-07-10               The Gallows             100000   \n",
       "\n",
       "      domestic_gross  worldwide_gross  year_released  age  decades      day  \\\n",
       "5536        47000000         70000000           1978   42        4  Tuesday   \n",
       "5676        12087064         30087064           1968   52        5  Tuesday   \n",
       "5679        22764410         41656474           2015    5        0   Friday   \n",
       "\n",
       "      month      markup  profitmargin  netprofit                  genres  \\\n",
       "5536     10  214.384615      0.995357   69675000  ['Horror', 'Thriller']   \n",
       "5676     10  262.921614      0.996211   29973064              ['Horror']   \n",
       "5679      7  415.564740      0.997599   41556474  ['Horror', 'Thriller']   \n",
       "\n",
       "     randomgenre           ROI  \n",
       "5536    Thriller  21438.461538  \n",
       "5676      Horror  26292.161404  \n",
       "5679      Horror  41556.474000  "
      ]
     },
     "execution_count": 13,
     "metadata": {},
     "output_type": "execute_result"
    }
   ],
   "source": [
    "df.loc[df['ROI'] > 20000]"
   ]
  },
  {
   "cell_type": "markdown",
   "metadata": {},
   "source": [
    "# Exploring Average ROI by Genre"
   ]
  },
  {
   "cell_type": "code",
   "execution_count": 44,
   "metadata": {},
   "outputs": [
    {
     "data": {
      "text/html": [
       "<div>\n",
       "<style scoped>\n",
       "    .dataframe tbody tr th:only-of-type {\n",
       "        vertical-align: middle;\n",
       "    }\n",
       "\n",
       "    .dataframe tbody tr th {\n",
       "        vertical-align: top;\n",
       "    }\n",
       "\n",
       "    .dataframe thead th {\n",
       "        text-align: right;\n",
       "    }\n",
       "</style>\n",
       "<table border=\"1\" class=\"dataframe\">\n",
       "  <thead>\n",
       "    <tr style=\"text-align: right;\">\n",
       "      <th></th>\n",
       "      <th>randomgenre</th>\n",
       "      <th>ROI</th>\n",
       "    </tr>\n",
       "  </thead>\n",
       "  <tbody>\n",
       "    <tr>\n",
       "      <td>0</td>\n",
       "      <td>Animation</td>\n",
       "      <td>187.687655</td>\n",
       "    </tr>\n",
       "    <tr>\n",
       "      <td>1</td>\n",
       "      <td>Adventure</td>\n",
       "      <td>163.339677</td>\n",
       "    </tr>\n",
       "    <tr>\n",
       "      <td>2</td>\n",
       "      <td>Mystery</td>\n",
       "      <td>139.930527</td>\n",
       "    </tr>\n",
       "    <tr>\n",
       "      <td>3</td>\n",
       "      <td>Science Fiction</td>\n",
       "      <td>138.493409</td>\n",
       "    </tr>\n",
       "    <tr>\n",
       "      <td>4</td>\n",
       "      <td>War</td>\n",
       "      <td>135.857985</td>\n",
       "    </tr>\n",
       "    <tr>\n",
       "      <td>5</td>\n",
       "      <td>Fantasy</td>\n",
       "      <td>132.026349</td>\n",
       "    </tr>\n",
       "    <tr>\n",
       "      <td>6</td>\n",
       "      <td>Family</td>\n",
       "      <td>113.506906</td>\n",
       "    </tr>\n",
       "    <tr>\n",
       "      <td>7</td>\n",
       "      <td>Comedy</td>\n",
       "      <td>102.955240</td>\n",
       "    </tr>\n",
       "    <tr>\n",
       "      <td>8</td>\n",
       "      <td>Romance</td>\n",
       "      <td>95.350050</td>\n",
       "    </tr>\n",
       "    <tr>\n",
       "      <td>9</td>\n",
       "      <td>History</td>\n",
       "      <td>89.751817</td>\n",
       "    </tr>\n",
       "    <tr>\n",
       "      <td>10</td>\n",
       "      <td>Action</td>\n",
       "      <td>82.474568</td>\n",
       "    </tr>\n",
       "    <tr>\n",
       "      <td>11</td>\n",
       "      <td>TV Movie</td>\n",
       "      <td>66.666667</td>\n",
       "    </tr>\n",
       "    <tr>\n",
       "      <td>12</td>\n",
       "      <td>Drama</td>\n",
       "      <td>52.289021</td>\n",
       "    </tr>\n",
       "    <tr>\n",
       "      <td>13</td>\n",
       "      <td>Crime</td>\n",
       "      <td>51.847285</td>\n",
       "    </tr>\n",
       "    <tr>\n",
       "      <td>14</td>\n",
       "      <td>Horror</td>\n",
       "      <td>42.503049</td>\n",
       "    </tr>\n",
       "    <tr>\n",
       "      <td>15</td>\n",
       "      <td>Western</td>\n",
       "      <td>37.564865</td>\n",
       "    </tr>\n",
       "    <tr>\n",
       "      <td>16</td>\n",
       "      <td>Thriller</td>\n",
       "      <td>26.274550</td>\n",
       "    </tr>\n",
       "    <tr>\n",
       "      <td>17</td>\n",
       "      <td>Music</td>\n",
       "      <td>-12.811526</td>\n",
       "    </tr>\n",
       "    <tr>\n",
       "      <td>18</td>\n",
       "      <td>Documentary</td>\n",
       "      <td>-57.631666</td>\n",
       "    </tr>\n",
       "  </tbody>\n",
       "</table>\n",
       "</div>"
      ],
      "text/plain": [
       "        randomgenre         ROI\n",
       "0         Animation  187.687655\n",
       "1         Adventure  163.339677\n",
       "2           Mystery  139.930527\n",
       "3   Science Fiction  138.493409\n",
       "4               War  135.857985\n",
       "5           Fantasy  132.026349\n",
       "6            Family  113.506906\n",
       "7            Comedy  102.955240\n",
       "8           Romance   95.350050\n",
       "9           History   89.751817\n",
       "10           Action   82.474568\n",
       "11         TV Movie   66.666667\n",
       "12            Drama   52.289021\n",
       "13            Crime   51.847285\n",
       "14           Horror   42.503049\n",
       "15          Western   37.564865\n",
       "16         Thriller   26.274550\n",
       "17            Music  -12.811526\n",
       "18      Documentary  -57.631666"
      ]
     },
     "execution_count": 44,
     "metadata": {},
     "output_type": "execute_result"
    }
   ],
   "source": [
    "dfmedianROI = pd.DataFrame(df.groupby('randomgenre')['ROI'].median().sort_values(ascending = False))\n",
    "dfmedianROI.reset_index(inplace = True)\n",
    "dfmedianROI"
   ]
  },
  {
   "cell_type": "code",
   "execution_count": 66,
   "metadata": {},
   "outputs": [
    {
     "data": {
      "text/plain": [
       "Text(0, 0.5, 'ROI')"
      ]
     },
     "execution_count": 66,
     "metadata": {},
     "output_type": "execute_result"
    },
    {
     "data": {
      "image/png": "[encoded data removed]",
      "text/plain": [
       "<Figure size 1800x1080 with 1 Axes>"
      ]
     },
     "metadata": {
      "needs_background": "light"
     },
     "output_type": "display_data"
    }
   ],
   "source": [
    "fig, axes=plt.subplots(nrows=1, ncols=1, figsize=(25,15))\n",
    "sns.barplot(x = 'randomgenre', y = 'ROI', data = dfmedianROI, palette = 'magma')\n",
    "plt.title(\"ROI by Genre\",pad= 20, size = 30)\n",
    "plt.xlabel(\"\")\n",
    "plt.ylabel(\"ROI\", labelpad=20,size = 20)"
   ]
  },
  {
   "cell_type": "code",
   "execution_count": 70,
   "metadata": {},
   "outputs": [
    {
     "data": {
      "text/html": [
       "<div>\n",
       "<style scoped>\n",
       "    .dataframe tbody tr th:only-of-type {\n",
       "        vertical-align: middle;\n",
       "    }\n",
       "\n",
       "    .dataframe tbody tr th {\n",
       "        vertical-align: top;\n",
       "    }\n",
       "\n",
       "    .dataframe thead th {\n",
       "        text-align: right;\n",
       "    }\n",
       "</style>\n",
       "<table border=\"1\" class=\"dataframe\">\n",
       "  <thead>\n",
       "    <tr style=\"text-align: right;\">\n",
       "      <th></th>\n",
       "      <th>id</th>\n",
       "      <th>release_date</th>\n",
       "      <th>movie</th>\n",
       "      <th>production_budget</th>\n",
       "      <th>domestic_gross</th>\n",
       "      <th>worldwide_gross</th>\n",
       "      <th>year_released</th>\n",
       "      <th>age</th>\n",
       "      <th>decades</th>\n",
       "      <th>day</th>\n",
       "      <th>month</th>\n",
       "      <th>markup</th>\n",
       "      <th>profitmargin</th>\n",
       "      <th>netprofit</th>\n",
       "      <th>genres</th>\n",
       "      <th>randomgenre</th>\n",
       "      <th>ROI</th>\n",
       "    </tr>\n",
       "  </thead>\n",
       "  <tbody>\n",
       "    <tr>\n",
       "      <td>5725</td>\n",
       "      <td>26</td>\n",
       "      <td>2014-12-31</td>\n",
       "      <td>The Image Revolution</td>\n",
       "      <td>50000</td>\n",
       "      <td>0</td>\n",
       "      <td>0</td>\n",
       "      <td>2014</td>\n",
       "      <td>6</td>\n",
       "      <td>0</td>\n",
       "      <td>Wednesday</td>\n",
       "      <td>12</td>\n",
       "      <td>-1.000000</td>\n",
       "      <td>-inf</td>\n",
       "      <td>-50000</td>\n",
       "      <td>['Documentary']</td>\n",
       "      <td>Documentary</td>\n",
       "      <td>-100.000000</td>\n",
       "    </tr>\n",
       "    <tr>\n",
       "      <td>5207</td>\n",
       "      <td>8</td>\n",
       "      <td>2013-12-31</td>\n",
       "      <td>The Vatican Exorcisms</td>\n",
       "      <td>1100000</td>\n",
       "      <td>0</td>\n",
       "      <td>0</td>\n",
       "      <td>2013</td>\n",
       "      <td>7</td>\n",
       "      <td>0</td>\n",
       "      <td>Tuesday</td>\n",
       "      <td>12</td>\n",
       "      <td>-1.000000</td>\n",
       "      <td>-inf</td>\n",
       "      <td>-1100000</td>\n",
       "      <td>['Documentary', 'Horror', 'Mystery']</td>\n",
       "      <td>Documentary</td>\n",
       "      <td>-100.000000</td>\n",
       "    </tr>\n",
       "    <tr>\n",
       "      <td>5723</td>\n",
       "      <td>24</td>\n",
       "      <td>2015-08-04</td>\n",
       "      <td>Bending Steel</td>\n",
       "      <td>50000</td>\n",
       "      <td>0</td>\n",
       "      <td>0</td>\n",
       "      <td>2015</td>\n",
       "      <td>5</td>\n",
       "      <td>0</td>\n",
       "      <td>Tuesday</td>\n",
       "      <td>8</td>\n",
       "      <td>-1.000000</td>\n",
       "      <td>-inf</td>\n",
       "      <td>-50000</td>\n",
       "      <td>['Documentary']</td>\n",
       "      <td>Documentary</td>\n",
       "      <td>-100.000000</td>\n",
       "    </tr>\n",
       "    <tr>\n",
       "      <td>4809</td>\n",
       "      <td>10</td>\n",
       "      <td>2011-04-01</td>\n",
       "      <td>Fat, Sick &amp; Nearly Dead</td>\n",
       "      <td>2600000</td>\n",
       "      <td>0</td>\n",
       "      <td>0</td>\n",
       "      <td>2011</td>\n",
       "      <td>9</td>\n",
       "      <td>0</td>\n",
       "      <td>Friday</td>\n",
       "      <td>4</td>\n",
       "      <td>-1.000000</td>\n",
       "      <td>-inf</td>\n",
       "      <td>-2600000</td>\n",
       "      <td>['Documentary']</td>\n",
       "      <td>Documentary</td>\n",
       "      <td>-100.000000</td>\n",
       "    </tr>\n",
       "    <tr>\n",
       "      <td>5476</td>\n",
       "      <td>77</td>\n",
       "      <td>2015-07-24</td>\n",
       "      <td>The Outrageous Sophie Tucker</td>\n",
       "      <td>500000</td>\n",
       "      <td>0</td>\n",
       "      <td>0</td>\n",
       "      <td>2015</td>\n",
       "      <td>5</td>\n",
       "      <td>0</td>\n",
       "      <td>Friday</td>\n",
       "      <td>7</td>\n",
       "      <td>-1.000000</td>\n",
       "      <td>-inf</td>\n",
       "      <td>-500000</td>\n",
       "      <td>['Documentary']</td>\n",
       "      <td>Documentary</td>\n",
       "      <td>-100.000000</td>\n",
       "    </tr>\n",
       "    <tr>\n",
       "      <td>5600</td>\n",
       "      <td>1</td>\n",
       "      <td>2015-02-24</td>\n",
       "      <td>Give Me Shelter</td>\n",
       "      <td>250000</td>\n",
       "      <td>0</td>\n",
       "      <td>0</td>\n",
       "      <td>2015</td>\n",
       "      <td>5</td>\n",
       "      <td>0</td>\n",
       "      <td>Tuesday</td>\n",
       "      <td>2</td>\n",
       "      <td>-1.000000</td>\n",
       "      <td>-inf</td>\n",
       "      <td>-250000</td>\n",
       "      <td>['Documentary']</td>\n",
       "      <td>Documentary</td>\n",
       "      <td>-100.000000</td>\n",
       "    </tr>\n",
       "    <tr>\n",
       "      <td>2329</td>\n",
       "      <td>30</td>\n",
       "      <td>2019-12-31</td>\n",
       "      <td>Reagan</td>\n",
       "      <td>25000000</td>\n",
       "      <td>0</td>\n",
       "      <td>0</td>\n",
       "      <td>2019</td>\n",
       "      <td>1</td>\n",
       "      <td>0</td>\n",
       "      <td>Tuesday</td>\n",
       "      <td>12</td>\n",
       "      <td>-1.000000</td>\n",
       "      <td>-inf</td>\n",
       "      <td>-25000000</td>\n",
       "      <td>['Documentary']</td>\n",
       "      <td>Documentary</td>\n",
       "      <td>-100.000000</td>\n",
       "    </tr>\n",
       "    <tr>\n",
       "      <td>5663</td>\n",
       "      <td>64</td>\n",
       "      <td>2013-05-03</td>\n",
       "      <td>Aroused</td>\n",
       "      <td>150000</td>\n",
       "      <td>0</td>\n",
       "      <td>0</td>\n",
       "      <td>2013</td>\n",
       "      <td>7</td>\n",
       "      <td>0</td>\n",
       "      <td>Friday</td>\n",
       "      <td>5</td>\n",
       "      <td>-1.000000</td>\n",
       "      <td>-inf</td>\n",
       "      <td>-150000</td>\n",
       "      <td>['Documentary']</td>\n",
       "      <td>Documentary</td>\n",
       "      <td>-100.000000</td>\n",
       "    </tr>\n",
       "    <tr>\n",
       "      <td>5691</td>\n",
       "      <td>92</td>\n",
       "      <td>2012-05-18</td>\n",
       "      <td>Indie Game: The Movie</td>\n",
       "      <td>100000</td>\n",
       "      <td>0</td>\n",
       "      <td>0</td>\n",
       "      <td>2012</td>\n",
       "      <td>8</td>\n",
       "      <td>0</td>\n",
       "      <td>Friday</td>\n",
       "      <td>5</td>\n",
       "      <td>-1.000000</td>\n",
       "      <td>-inf</td>\n",
       "      <td>-100000</td>\n",
       "      <td>['Documentary']</td>\n",
       "      <td>Documentary</td>\n",
       "      <td>-100.000000</td>\n",
       "    </tr>\n",
       "    <tr>\n",
       "      <td>5694</td>\n",
       "      <td>95</td>\n",
       "      <td>2015-03-17</td>\n",
       "      <td>Closure</td>\n",
       "      <td>100000</td>\n",
       "      <td>0</td>\n",
       "      <td>0</td>\n",
       "      <td>2015</td>\n",
       "      <td>5</td>\n",
       "      <td>0</td>\n",
       "      <td>Tuesday</td>\n",
       "      <td>3</td>\n",
       "      <td>-1.000000</td>\n",
       "      <td>-inf</td>\n",
       "      <td>-100000</td>\n",
       "      <td>['Documentary']</td>\n",
       "      <td>Documentary</td>\n",
       "      <td>-100.000000</td>\n",
       "    </tr>\n",
       "    <tr>\n",
       "      <td>5464</td>\n",
       "      <td>65</td>\n",
       "      <td>2014-09-10</td>\n",
       "      <td>Born to Fly: Elizabeth Streb vs. Gravity</td>\n",
       "      <td>500000</td>\n",
       "      <td>1822</td>\n",
       "      <td>1822</td>\n",
       "      <td>2014</td>\n",
       "      <td>6</td>\n",
       "      <td>0</td>\n",
       "      <td>Wednesday</td>\n",
       "      <td>9</td>\n",
       "      <td>-0.996356</td>\n",
       "      <td>-273.423710</td>\n",
       "      <td>-498178</td>\n",
       "      <td>['Documentary']</td>\n",
       "      <td>Documentary</td>\n",
       "      <td>-99.635600</td>\n",
       "    </tr>\n",
       "    <tr>\n",
       "      <td>5660</td>\n",
       "      <td>61</td>\n",
       "      <td>2015-08-21</td>\n",
       "      <td>Top Spin</td>\n",
       "      <td>150000</td>\n",
       "      <td>5858</td>\n",
       "      <td>5858</td>\n",
       "      <td>2015</td>\n",
       "      <td>5</td>\n",
       "      <td>0</td>\n",
       "      <td>Friday</td>\n",
       "      <td>8</td>\n",
       "      <td>-0.960947</td>\n",
       "      <td>-24.606009</td>\n",
       "      <td>-144142</td>\n",
       "      <td>['Documentary']</td>\n",
       "      <td>Documentary</td>\n",
       "      <td>-96.094667</td>\n",
       "    </tr>\n",
       "    <tr>\n",
       "      <td>5415</td>\n",
       "      <td>16</td>\n",
       "      <td>2016-03-04</td>\n",
       "      <td>They Will Have to Kill Us First</td>\n",
       "      <td>600000</td>\n",
       "      <td>0</td>\n",
       "      <td>7943</td>\n",
       "      <td>2016</td>\n",
       "      <td>4</td>\n",
       "      <td>0</td>\n",
       "      <td>Friday</td>\n",
       "      <td>3</td>\n",
       "      <td>-0.986762</td>\n",
       "      <td>-74.538210</td>\n",
       "      <td>-592057</td>\n",
       "      <td>['Documentary', 'Music']</td>\n",
       "      <td>Documentary</td>\n",
       "      <td>-98.676167</td>\n",
       "    </tr>\n",
       "    <tr>\n",
       "      <td>5719</td>\n",
       "      <td>20</td>\n",
       "      <td>2015-07-31</td>\n",
       "      <td>Counting</td>\n",
       "      <td>50000</td>\n",
       "      <td>8374</td>\n",
       "      <td>8374</td>\n",
       "      <td>2015</td>\n",
       "      <td>5</td>\n",
       "      <td>0</td>\n",
       "      <td>Friday</td>\n",
       "      <td>7</td>\n",
       "      <td>-0.832520</td>\n",
       "      <td>-4.970862</td>\n",
       "      <td>-41626</td>\n",
       "      <td>['Documentary']</td>\n",
       "      <td>Documentary</td>\n",
       "      <td>-83.252000</td>\n",
       "    </tr>\n",
       "    <tr>\n",
       "      <td>5426</td>\n",
       "      <td>27</td>\n",
       "      <td>2014-09-12</td>\n",
       "      <td>Faith Connections</td>\n",
       "      <td>550000</td>\n",
       "      <td>9111</td>\n",
       "      <td>9111</td>\n",
       "      <td>2014</td>\n",
       "      <td>6</td>\n",
       "      <td>0</td>\n",
       "      <td>Friday</td>\n",
       "      <td>9</td>\n",
       "      <td>-0.983435</td>\n",
       "      <td>-59.366590</td>\n",
       "      <td>-540889</td>\n",
       "      <td>['Documentary', 'Drama']</td>\n",
       "      <td>Documentary</td>\n",
       "      <td>-98.343455</td>\n",
       "    </tr>\n",
       "    <tr>\n",
       "      <td>5644</td>\n",
       "      <td>45</td>\n",
       "      <td>2015-02-27</td>\n",
       "      <td>Butterfly Girl</td>\n",
       "      <td>180000</td>\n",
       "      <td>17503</td>\n",
       "      <td>17503</td>\n",
       "      <td>2015</td>\n",
       "      <td>5</td>\n",
       "      <td>0</td>\n",
       "      <td>Friday</td>\n",
       "      <td>2</td>\n",
       "      <td>-0.902761</td>\n",
       "      <td>-9.283951</td>\n",
       "      <td>-162497</td>\n",
       "      <td>['Documentary']</td>\n",
       "      <td>Documentary</td>\n",
       "      <td>-90.276111</td>\n",
       "    </tr>\n",
       "    <tr>\n",
       "      <td>5175</td>\n",
       "      <td>76</td>\n",
       "      <td>2012-06-01</td>\n",
       "      <td>Pink Ribbons, Inc.</td>\n",
       "      <td>1200000</td>\n",
       "      <td>26608</td>\n",
       "      <td>26608</td>\n",
       "      <td>2012</td>\n",
       "      <td>8</td>\n",
       "      <td>0</td>\n",
       "      <td>Friday</td>\n",
       "      <td>6</td>\n",
       "      <td>-0.977827</td>\n",
       "      <td>-44.099218</td>\n",
       "      <td>-1173392</td>\n",
       "      <td>['Documentary']</td>\n",
       "      <td>Documentary</td>\n",
       "      <td>-97.782667</td>\n",
       "    </tr>\n",
       "    <tr>\n",
       "      <td>4621</td>\n",
       "      <td>22</td>\n",
       "      <td>2016-06-03</td>\n",
       "      <td>Time to Choose</td>\n",
       "      <td>3500000</td>\n",
       "      <td>29233</td>\n",
       "      <td>29233</td>\n",
       "      <td>2016</td>\n",
       "      <td>4</td>\n",
       "      <td>0</td>\n",
       "      <td>Friday</td>\n",
       "      <td>6</td>\n",
       "      <td>-0.991648</td>\n",
       "      <td>-118.727705</td>\n",
       "      <td>-3470767</td>\n",
       "      <td>['Documentary']</td>\n",
       "      <td>Documentary</td>\n",
       "      <td>-99.164771</td>\n",
       "    </tr>\n",
       "    <tr>\n",
       "      <td>5582</td>\n",
       "      <td>83</td>\n",
       "      <td>2008-03-28</td>\n",
       "      <td>Happy Valley</td>\n",
       "      <td>250000</td>\n",
       "      <td>67665</td>\n",
       "      <td>67665</td>\n",
       "      <td>2008</td>\n",
       "      <td>12</td>\n",
       "      <td>1</td>\n",
       "      <td>Friday</td>\n",
       "      <td>3</td>\n",
       "      <td>-0.729340</td>\n",
       "      <td>-2.694672</td>\n",
       "      <td>-182335</td>\n",
       "      <td>['Documentary']</td>\n",
       "      <td>Documentary</td>\n",
       "      <td>-72.934000</td>\n",
       "    </tr>\n",
       "    <tr>\n",
       "      <td>4956</td>\n",
       "      <td>57</td>\n",
       "      <td>2014-09-19</td>\n",
       "      <td>Pump</td>\n",
       "      <td>2000000</td>\n",
       "      <td>72277</td>\n",
       "      <td>72277</td>\n",
       "      <td>2014</td>\n",
       "      <td>6</td>\n",
       "      <td>0</td>\n",
       "      <td>Friday</td>\n",
       "      <td>9</td>\n",
       "      <td>-0.963861</td>\n",
       "      <td>-26.671320</td>\n",
       "      <td>-1927723</td>\n",
       "      <td>['Documentary']</td>\n",
       "      <td>Documentary</td>\n",
       "      <td>-96.386150</td>\n",
       "    </tr>\n",
       "    <tr>\n",
       "      <td>5515</td>\n",
       "      <td>16</td>\n",
       "      <td>1980-05-16</td>\n",
       "      <td>Home Movies</td>\n",
       "      <td>400000</td>\n",
       "      <td>89134</td>\n",
       "      <td>89134</td>\n",
       "      <td>1980</td>\n",
       "      <td>40</td>\n",
       "      <td>4</td>\n",
       "      <td>Friday</td>\n",
       "      <td>5</td>\n",
       "      <td>-0.777165</td>\n",
       "      <td>-3.487625</td>\n",
       "      <td>-310866</td>\n",
       "      <td>['Documentary', 'Romance']</td>\n",
       "      <td>Documentary</td>\n",
       "      <td>-77.716500</td>\n",
       "    </tr>\n",
       "    <tr>\n",
       "      <td>4837</td>\n",
       "      <td>38</td>\n",
       "      <td>2010-06-18</td>\n",
       "      <td>8: The Mormon Proposition</td>\n",
       "      <td>2500000</td>\n",
       "      <td>100280</td>\n",
       "      <td>100280</td>\n",
       "      <td>2010</td>\n",
       "      <td>10</td>\n",
       "      <td>1</td>\n",
       "      <td>Friday</td>\n",
       "      <td>6</td>\n",
       "      <td>-0.959888</td>\n",
       "      <td>-23.930195</td>\n",
       "      <td>-2399720</td>\n",
       "      <td>['Documentary']</td>\n",
       "      <td>Documentary</td>\n",
       "      <td>-95.988800</td>\n",
       "    </tr>\n",
       "    <tr>\n",
       "      <td>5451</td>\n",
       "      <td>52</td>\n",
       "      <td>2013-04-17</td>\n",
       "      <td>Deceptive Practice: The Mysteries and Mentors ...</td>\n",
       "      <td>500000</td>\n",
       "      <td>152449</td>\n",
       "      <td>152449</td>\n",
       "      <td>2013</td>\n",
       "      <td>7</td>\n",
       "      <td>0</td>\n",
       "      <td>Wednesday</td>\n",
       "      <td>4</td>\n",
       "      <td>-0.695102</td>\n",
       "      <td>-2.279785</td>\n",
       "      <td>-347551</td>\n",
       "      <td>['Documentary']</td>\n",
       "      <td>Documentary</td>\n",
       "      <td>-69.510200</td>\n",
       "    </tr>\n",
       "    <tr>\n",
       "      <td>4779</td>\n",
       "      <td>80</td>\n",
       "      <td>2010-10-01</td>\n",
       "      <td>Freakonomics</td>\n",
       "      <td>2900000</td>\n",
       "      <td>101270</td>\n",
       "      <td>172867</td>\n",
       "      <td>2010</td>\n",
       "      <td>10</td>\n",
       "      <td>1</td>\n",
       "      <td>Friday</td>\n",
       "      <td>10</td>\n",
       "      <td>-0.940391</td>\n",
       "      <td>-15.775903</td>\n",
       "      <td>-2727133</td>\n",
       "      <td>['Documentary']</td>\n",
       "      <td>Documentary</td>\n",
       "      <td>-94.039069</td>\n",
       "    </tr>\n",
       "    <tr>\n",
       "      <td>5137</td>\n",
       "      <td>38</td>\n",
       "      <td>2015-01-30</td>\n",
       "      <td>Above and Beyond</td>\n",
       "      <td>1300000</td>\n",
       "      <td>288751</td>\n",
       "      <td>288751</td>\n",
       "      <td>2015</td>\n",
       "      <td>5</td>\n",
       "      <td>0</td>\n",
       "      <td>Friday</td>\n",
       "      <td>1</td>\n",
       "      <td>-0.777884</td>\n",
       "      <td>-3.502149</td>\n",
       "      <td>-1011249</td>\n",
       "      <td>['Adventure', 'Documentary', 'History', 'War']</td>\n",
       "      <td>Documentary</td>\n",
       "      <td>-77.788385</td>\n",
       "    </tr>\n",
       "  </tbody>\n",
       "</table>\n",
       "</div>"
      ],
      "text/plain": [
       "      id release_date                                              movie  \\\n",
       "5725  26   2014-12-31                               The Image Revolution   \n",
       "5207   8   2013-12-31                              The Vatican Exorcisms   \n",
       "5723  24   2015-08-04                                      Bending Steel   \n",
       "4809  10   2011-04-01                            Fat, Sick & Nearly Dead   \n",
       "5476  77   2015-07-24                       The Outrageous Sophie Tucker   \n",
       "5600   1   2015-02-24                                    Give Me Shelter   \n",
       "2329  30   2019-12-31                                             Reagan   \n",
       "5663  64   2013-05-03                                            Aroused   \n",
       "5691  92   2012-05-18                              Indie Game: The Movie   \n",
       "5694  95   2015-03-17                                            Closure   \n",
       "5464  65   2014-09-10           Born to Fly: Elizabeth Streb vs. Gravity   \n",
       "5660  61   2015-08-21                                           Top Spin   \n",
       "5415  16   2016-03-04                    They Will Have to Kill Us First   \n",
       "5719  20   2015-07-31                                           Counting   \n",
       "5426  27   2014-09-12                                  Faith Connections   \n",
       "5644  45   2015-02-27                                     Butterfly Girl   \n",
       "5175  76   2012-06-01                                 Pink Ribbons, Inc.   \n",
       "4621  22   2016-06-03                                     Time to Choose   \n",
       "5582  83   2008-03-28                                       Happy Valley   \n",
       "4956  57   2014-09-19                                               Pump   \n",
       "5515  16   1980-05-16                                        Home Movies   \n",
       "4837  38   2010-06-18                          8: The Mormon Proposition   \n",
       "5451  52   2013-04-17  Deceptive Practice: The Mysteries and Mentors ...   \n",
       "4779  80   2010-10-01                                       Freakonomics   \n",
       "5137  38   2015-01-30                                   Above and Beyond   \n",
       "\n",
       "      production_budget  domestic_gross  worldwide_gross  year_released  age  \\\n",
       "5725              50000               0                0           2014    6   \n",
       "5207            1100000               0                0           2013    7   \n",
       "5723              50000               0                0           2015    5   \n",
       "4809            2600000               0                0           2011    9   \n",
       "5476             500000               0                0           2015    5   \n",
       "5600             250000               0                0           2015    5   \n",
       "2329           25000000               0                0           2019    1   \n",
       "5663             150000               0                0           2013    7   \n",
       "5691             100000               0                0           2012    8   \n",
       "5694             100000               0                0           2015    5   \n",
       "5464             500000            1822             1822           2014    6   \n",
       "5660             150000            5858             5858           2015    5   \n",
       "5415             600000               0             7943           2016    4   \n",
       "5719              50000            8374             8374           2015    5   \n",
       "5426             550000            9111             9111           2014    6   \n",
       "5644             180000           17503            17503           2015    5   \n",
       "5175            1200000           26608            26608           2012    8   \n",
       "4621            3500000           29233            29233           2016    4   \n",
       "5582             250000           67665            67665           2008   12   \n",
       "4956            2000000           72277            72277           2014    6   \n",
       "5515             400000           89134            89134           1980   40   \n",
       "4837            2500000          100280           100280           2010   10   \n",
       "5451             500000          152449           152449           2013    7   \n",
       "4779            2900000          101270           172867           2010   10   \n",
       "5137            1300000          288751           288751           2015    5   \n",
       "\n",
       "      decades        day  month    markup  profitmargin  netprofit  \\\n",
       "5725        0  Wednesday     12 -1.000000          -inf     -50000   \n",
       "5207        0    Tuesday     12 -1.000000          -inf   -1100000   \n",
       "5723        0    Tuesday      8 -1.000000          -inf     -50000   \n",
       "4809        0     Friday      4 -1.000000          -inf   -2600000   \n",
       "5476        0     Friday      7 -1.000000          -inf    -500000   \n",
       "5600        0    Tuesday      2 -1.000000          -inf    -250000   \n",
       "2329        0    Tuesday     12 -1.000000          -inf  -25000000   \n",
       "5663        0     Friday      5 -1.000000          -inf    -150000   \n",
       "5691        0     Friday      5 -1.000000          -inf    -100000   \n",
       "5694        0    Tuesday      3 -1.000000          -inf    -100000   \n",
       "5464        0  Wednesday      9 -0.996356   -273.423710    -498178   \n",
       "5660        0     Friday      8 -0.960947    -24.606009    -144142   \n",
       "5415        0     Friday      3 -0.986762    -74.538210    -592057   \n",
       "5719        0     Friday      7 -0.832520     -4.970862     -41626   \n",
       "5426        0     Friday      9 -0.983435    -59.366590    -540889   \n",
       "5644        0     Friday      2 -0.902761     -9.283951    -162497   \n",
       "5175        0     Friday      6 -0.977827    -44.099218   -1173392   \n",
       "4621        0     Friday      6 -0.991648   -118.727705   -3470767   \n",
       "5582        1     Friday      3 -0.729340     -2.694672    -182335   \n",
       "4956        0     Friday      9 -0.963861    -26.671320   -1927723   \n",
       "5515        4     Friday      5 -0.777165     -3.487625    -310866   \n",
       "4837        1     Friday      6 -0.959888    -23.930195   -2399720   \n",
       "5451        0  Wednesday      4 -0.695102     -2.279785    -347551   \n",
       "4779        1     Friday     10 -0.940391    -15.775903   -2727133   \n",
       "5137        0     Friday      1 -0.777884     -3.502149   -1011249   \n",
       "\n",
       "                                              genres  randomgenre         ROI  \n",
       "5725                                 ['Documentary']  Documentary -100.000000  \n",
       "5207            ['Documentary', 'Horror', 'Mystery']  Documentary -100.000000  \n",
       "5723                                 ['Documentary']  Documentary -100.000000  \n",
       "4809                                 ['Documentary']  Documentary -100.000000  \n",
       "5476                                 ['Documentary']  Documentary -100.000000  \n",
       "5600                                 ['Documentary']  Documentary -100.000000  \n",
       "2329                                 ['Documentary']  Documentary -100.000000  \n",
       "5663                                 ['Documentary']  Documentary -100.000000  \n",
       "5691                                 ['Documentary']  Documentary -100.000000  \n",
       "5694                                 ['Documentary']  Documentary -100.000000  \n",
       "5464                                 ['Documentary']  Documentary  -99.635600  \n",
       "5660                                 ['Documentary']  Documentary  -96.094667  \n",
       "5415                        ['Documentary', 'Music']  Documentary  -98.676167  \n",
       "5719                                 ['Documentary']  Documentary  -83.252000  \n",
       "5426                        ['Documentary', 'Drama']  Documentary  -98.343455  \n",
       "5644                                 ['Documentary']  Documentary  -90.276111  \n",
       "5175                                 ['Documentary']  Documentary  -97.782667  \n",
       "4621                                 ['Documentary']  Documentary  -99.164771  \n",
       "5582                                 ['Documentary']  Documentary  -72.934000  \n",
       "4956                                 ['Documentary']  Documentary  -96.386150  \n",
       "5515                      ['Documentary', 'Romance']  Documentary  -77.716500  \n",
       "4837                                 ['Documentary']  Documentary  -95.988800  \n",
       "5451                                 ['Documentary']  Documentary  -69.510200  \n",
       "4779                                 ['Documentary']  Documentary  -94.039069  \n",
       "5137  ['Adventure', 'Documentary', 'History', 'War']  Documentary  -77.788385  "
      ]
     },
     "execution_count": 70,
     "metadata": {},
     "output_type": "execute_result"
    }
   ],
   "source": [
    "df.loc[df['randomgenre']=='Documentary'].sort_values(by = 'worldwide_gross',ascending = True)[:25]"
   ]
  },
  {
   "cell_type": "code",
   "execution_count": 14,
   "metadata": {},
   "outputs": [
    {
     "data": {
      "text/html": [
       "<div>\n",
       "<style scoped>\n",
       "    .dataframe tbody tr th:only-of-type {\n",
       "        vertical-align: middle;\n",
       "    }\n",
       "\n",
       "    .dataframe tbody tr th {\n",
       "        vertical-align: top;\n",
       "    }\n",
       "\n",
       "    .dataframe thead th {\n",
       "        text-align: right;\n",
       "    }\n",
       "</style>\n",
       "<table border=\"1\" class=\"dataframe\">\n",
       "  <thead>\n",
       "    <tr style=\"text-align: right;\">\n",
       "      <th></th>\n",
       "      <th>id</th>\n",
       "      <th>production_budget</th>\n",
       "      <th>domestic_gross</th>\n",
       "      <th>worldwide_gross</th>\n",
       "      <th>year_released</th>\n",
       "      <th>age</th>\n",
       "      <th>decades</th>\n",
       "      <th>month</th>\n",
       "      <th>markup</th>\n",
       "      <th>profitmargin</th>\n",
       "      <th>netprofit</th>\n",
       "      <th>ROI</th>\n",
       "    </tr>\n",
       "  </thead>\n",
       "  <tbody>\n",
       "    <tr>\n",
       "      <td>id</td>\n",
       "      <td>1.000000</td>\n",
       "      <td>-0.056528</td>\n",
       "      <td>-0.027844</td>\n",
       "      <td>-0.045121</td>\n",
       "      <td>-0.023152</td>\n",
       "      <td>0.023152</td>\n",
       "      <td>0.015900</td>\n",
       "      <td>-0.011247</td>\n",
       "      <td>0.032219</td>\n",
       "      <td>0.043498</td>\n",
       "      <td>-0.038662</td>\n",
       "      <td>0.032219</td>\n",
       "    </tr>\n",
       "    <tr>\n",
       "      <td>production_budget</td>\n",
       "      <td>-0.056528</td>\n",
       "      <td>1.000000</td>\n",
       "      <td>0.723801</td>\n",
       "      <td>0.797135</td>\n",
       "      <td>0.098423</td>\n",
       "      <td>-0.098423</td>\n",
       "      <td>-0.083787</td>\n",
       "      <td>0.003138</td>\n",
       "      <td>-0.043941</td>\n",
       "      <td>0.029158</td>\n",
       "      <td>0.682663</td>\n",
       "      <td>-0.043941</td>\n",
       "    </tr>\n",
       "    <tr>\n",
       "      <td>domestic_gross</td>\n",
       "      <td>-0.027844</td>\n",
       "      <td>0.723801</td>\n",
       "      <td>1.000000</td>\n",
       "      <td>0.943844</td>\n",
       "      <td>0.026518</td>\n",
       "      <td>-0.026518</td>\n",
       "      <td>-0.009758</td>\n",
       "      <td>0.011814</td>\n",
       "      <td>0.101808</td>\n",
       "      <td>0.028825</td>\n",
       "      <td>0.938115</td>\n",
       "      <td>0.101808</td>\n",
       "    </tr>\n",
       "    <tr>\n",
       "      <td>worldwide_gross</td>\n",
       "      <td>-0.045121</td>\n",
       "      <td>0.797135</td>\n",
       "      <td>0.943844</td>\n",
       "      <td>1.000000</td>\n",
       "      <td>0.065354</td>\n",
       "      <td>-0.065354</td>\n",
       "      <td>-0.048313</td>\n",
       "      <td>0.017587</td>\n",
       "      <td>0.081693</td>\n",
       "      <td>0.025620</td>\n",
       "      <td>0.985392</td>\n",
       "      <td>0.081693</td>\n",
       "    </tr>\n",
       "    <tr>\n",
       "      <td>year_released</td>\n",
       "      <td>-0.023152</td>\n",
       "      <td>0.098423</td>\n",
       "      <td>0.026518</td>\n",
       "      <td>0.065354</td>\n",
       "      <td>1.000000</td>\n",
       "      <td>-1.000000</td>\n",
       "      <td>-0.951550</td>\n",
       "      <td>-0.018586</td>\n",
       "      <td>-0.166773</td>\n",
       "      <td>-0.015060</td>\n",
       "      <td>0.051333</td>\n",
       "      <td>-0.166773</td>\n",
       "    </tr>\n",
       "    <tr>\n",
       "      <td>age</td>\n",
       "      <td>0.023152</td>\n",
       "      <td>-0.098423</td>\n",
       "      <td>-0.026518</td>\n",
       "      <td>-0.065354</td>\n",
       "      <td>-1.000000</td>\n",
       "      <td>1.000000</td>\n",
       "      <td>0.951550</td>\n",
       "      <td>0.018586</td>\n",
       "      <td>0.166773</td>\n",
       "      <td>0.015060</td>\n",
       "      <td>-0.051333</td>\n",
       "      <td>0.166773</td>\n",
       "    </tr>\n",
       "    <tr>\n",
       "      <td>decades</td>\n",
       "      <td>0.015900</td>\n",
       "      <td>-0.083787</td>\n",
       "      <td>-0.009758</td>\n",
       "      <td>-0.048313</td>\n",
       "      <td>-0.951550</td>\n",
       "      <td>0.951550</td>\n",
       "      <td>1.000000</td>\n",
       "      <td>0.024706</td>\n",
       "      <td>0.169015</td>\n",
       "      <td>0.015455</td>\n",
       "      <td>-0.034837</td>\n",
       "      <td>0.169015</td>\n",
       "    </tr>\n",
       "    <tr>\n",
       "      <td>month</td>\n",
       "      <td>-0.011247</td>\n",
       "      <td>0.003138</td>\n",
       "      <td>0.011814</td>\n",
       "      <td>0.017587</td>\n",
       "      <td>-0.018586</td>\n",
       "      <td>0.018586</td>\n",
       "      <td>0.024706</td>\n",
       "      <td>1.000000</td>\n",
       "      <td>0.001740</td>\n",
       "      <td>-0.037694</td>\n",
       "      <td>0.020399</td>\n",
       "      <td>0.001740</td>\n",
       "    </tr>\n",
       "    <tr>\n",
       "      <td>markup</td>\n",
       "      <td>0.032219</td>\n",
       "      <td>-0.043941</td>\n",
       "      <td>0.101808</td>\n",
       "      <td>0.081693</td>\n",
       "      <td>-0.166773</td>\n",
       "      <td>0.166773</td>\n",
       "      <td>0.169015</td>\n",
       "      <td>0.001740</td>\n",
       "      <td>1.000000</td>\n",
       "      <td>0.013132</td>\n",
       "      <td>0.111260</td>\n",
       "      <td>1.000000</td>\n",
       "    </tr>\n",
       "    <tr>\n",
       "      <td>profitmargin</td>\n",
       "      <td>0.043498</td>\n",
       "      <td>0.029158</td>\n",
       "      <td>0.028825</td>\n",
       "      <td>0.025620</td>\n",
       "      <td>-0.015060</td>\n",
       "      <td>0.015060</td>\n",
       "      <td>0.015455</td>\n",
       "      <td>-0.037694</td>\n",
       "      <td>0.013132</td>\n",
       "      <td>1.000000</td>\n",
       "      <td>0.022772</td>\n",
       "      <td>0.013132</td>\n",
       "    </tr>\n",
       "    <tr>\n",
       "      <td>netprofit</td>\n",
       "      <td>-0.038662</td>\n",
       "      <td>0.682663</td>\n",
       "      <td>0.938115</td>\n",
       "      <td>0.985392</td>\n",
       "      <td>0.051333</td>\n",
       "      <td>-0.051333</td>\n",
       "      <td>-0.034837</td>\n",
       "      <td>0.020399</td>\n",
       "      <td>0.111260</td>\n",
       "      <td>0.022772</td>\n",
       "      <td>1.000000</td>\n",
       "      <td>0.111260</td>\n",
       "    </tr>\n",
       "    <tr>\n",
       "      <td>ROI</td>\n",
       "      <td>0.032219</td>\n",
       "      <td>-0.043941</td>\n",
       "      <td>0.101808</td>\n",
       "      <td>0.081693</td>\n",
       "      <td>-0.166773</td>\n",
       "      <td>0.166773</td>\n",
       "      <td>0.169015</td>\n",
       "      <td>0.001740</td>\n",
       "      <td>1.000000</td>\n",
       "      <td>0.013132</td>\n",
       "      <td>0.111260</td>\n",
       "      <td>1.000000</td>\n",
       "    </tr>\n",
       "  </tbody>\n",
       "</table>\n",
       "</div>"
      ],
      "text/plain": [
       "                         id  production_budget  domestic_gross  \\\n",
       "id                 1.000000          -0.056528       -0.027844   \n",
       "production_budget -0.056528           1.000000        0.723801   \n",
       "domestic_gross    -0.027844           0.723801        1.000000   \n",
       "worldwide_gross   -0.045121           0.797135        0.943844   \n",
       "year_released     -0.023152           0.098423        0.026518   \n",
       "age                0.023152          -0.098423       -0.026518   \n",
       "decades            0.015900          -0.083787       -0.009758   \n",
       "month             -0.011247           0.003138        0.011814   \n",
       "markup             0.032219          -0.043941        0.101808   \n",
       "profitmargin       0.043498           0.029158        0.028825   \n",
       "netprofit         -0.038662           0.682663        0.938115   \n",
       "ROI                0.032219          -0.043941        0.101808   \n",
       "\n",
       "                   worldwide_gross  year_released       age   decades  \\\n",
       "id                       -0.045121      -0.023152  0.023152  0.015900   \n",
       "production_budget         0.797135       0.098423 -0.098423 -0.083787   \n",
       "domestic_gross            0.943844       0.026518 -0.026518 -0.009758   \n",
       "worldwide_gross           1.000000       0.065354 -0.065354 -0.048313   \n",
       "year_released             0.065354       1.000000 -1.000000 -0.951550   \n",
       "age                      -0.065354      -1.000000  1.000000  0.951550   \n",
       "decades                  -0.048313      -0.951550  0.951550  1.000000   \n",
       "month                     0.017587      -0.018586  0.018586  0.024706   \n",
       "markup                    0.081693      -0.166773  0.166773  0.169015   \n",
       "profitmargin              0.025620      -0.015060  0.015060  0.015455   \n",
       "netprofit                 0.985392       0.051333 -0.051333 -0.034837   \n",
       "ROI                       0.081693      -0.166773  0.166773  0.169015   \n",
       "\n",
       "                      month    markup  profitmargin  netprofit       ROI  \n",
       "id                -0.011247  0.032219      0.043498  -0.038662  0.032219  \n",
       "production_budget  0.003138 -0.043941      0.029158   0.682663 -0.043941  \n",
       "domestic_gross     0.011814  0.101808      0.028825   0.938115  0.101808  \n",
       "worldwide_gross    0.017587  0.081693      0.025620   0.985392  0.081693  \n",
       "year_released     -0.018586 -0.166773     -0.015060   0.051333 -0.166773  \n",
       "age                0.018586  0.166773      0.015060  -0.051333  0.166773  \n",
       "decades            0.024706  0.169015      0.015455  -0.034837  0.169015  \n",
       "month              1.000000  0.001740     -0.037694   0.020399  0.001740  \n",
       "markup             0.001740  1.000000      0.013132   0.111260  1.000000  \n",
       "profitmargin      -0.037694  0.013132      1.000000   0.022772  0.013132  \n",
       "netprofit          0.020399  0.111260      0.022772   1.000000  0.111260  \n",
       "ROI                0.001740  1.000000      0.013132   0.111260  1.000000  "
      ]
     },
     "execution_count": 14,
     "metadata": {},
     "output_type": "execute_result"
    }
   ],
   "source": [
    "df.corr()"
   ]
  },
  {
   "cell_type": "code",
   "execution_count": 15,
   "metadata": {},
   "outputs": [
    {
     "data": {
      "text/plain": [
       "<matplotlib.axes._subplots.AxesSubplot at 0x1a2554d518>"
      ]
     },
     "execution_count": 15,
     "metadata": {},
     "output_type": "execute_result"
    },
    {
     "data": {
      "image/png": "[encoded data removed]",
      "text/plain": [
       "<Figure size 432x288 with 1 Axes>"
      ]
     },
     "metadata": {
      "needs_background": "light"
     },
     "output_type": "display_data"
    }
   ],
   "source": [
    "df.groupby(['randomgenre'])['markup'].sum().sort_values(ascending = False)[:5].plot(kind = 'barh')"
   ]
  },
  {
   "cell_type": "code",
   "execution_count": 66,
   "metadata": {},
   "outputs": [
    {
     "data": {
      "text/plain": [
       "<matplotlib.axes._subplots.AxesSubplot at 0x1a1b5def60>"
      ]
     },
     "execution_count": 66,
     "metadata": {},
     "output_type": "execute_result"
    },
    {
     "data": {
      "image/png": "[encoded data removed]",
      "text/plain": [
       "<Figure size 432x288 with 1 Axes>"
      ]
     },
     "metadata": {
      "needs_background": "light"
     },
     "output_type": "display_data"
    }
   ],
   "source": [
    "df.groupby(['randomgenre'])['movie'].count().sort_values(ascending = False)[:10].plot(kind = 'barh')"
   ]
  },
  {
   "cell_type": "markdown",
   "metadata": {},
   "source": [
    "# Creating a DataFrame for the top 10 Genres by number of movies released"
   ]
  },
  {
   "cell_type": "code",
   "execution_count": 69,
   "metadata": {},
   "outputs": [],
   "source": [
    "top10bycount = pd.DataFrame(df.groupby(['randomgenre'])['movie'].count().sort_values(ascending = False)[:10])"
   ]
  },
  {
   "cell_type": "code",
   "execution_count": 70,
   "metadata": {},
   "outputs": [],
   "source": [
    "top10bycount.reset_index(inplace = True)"
   ]
  },
  {
   "cell_type": "code",
   "execution_count": 81,
   "metadata": {},
   "outputs": [
    {
     "data": {
      "text/plain": [
       "Text(0.5, 0, '')"
      ]
     },
     "execution_count": 81,
     "metadata": {},
     "output_type": "execute_result"
    },
    {
     "data": {
      "image/png": "[encoded data removed]",
      "text/plain": [
       "<Figure size 864x576 with 1 Axes>"
      ]
     },
     "metadata": {
      "needs_background": "light"
     },
     "output_type": "display_data"
    }
   ],
   "source": [
    "fig, axes=plt.subplots(nrows=1, ncols=1, figsize=(12,8))\n",
    "ax = sns.barplot(x='randomgenre', y ='movie', data = top10bycount, palette = 'magma')\n",
    "\n",
    "ax.set_title(\"Top 10 Genres by Count\", pad = 10,size = 15)\n",
    "ax.set_ylabel(\"Number of Films\", labelpad = 10, size = 15)\n",
    "ax.set_xlabel(\"\")"
   ]
  },
  {
   "cell_type": "markdown",
   "metadata": {},
   "source": [
    "# Creating a DataFrame for the top 5 genres by movies released for deeper analysis "
   ]
  },
  {
   "cell_type": "code",
   "execution_count": 21,
   "metadata": {
    "scrolled": true
   },
   "outputs": [
    {
     "data": {
      "text/plain": [
       "randomgenre\n",
       "Drama       458\n",
       "Comedy      289\n",
       "Thriller    204\n",
       "Action      162\n",
       "Horror      136\n",
       "Name: movie, dtype: int64"
      ]
     },
     "execution_count": 21,
     "metadata": {},
     "output_type": "execute_result"
    }
   ],
   "source": [
    "top5genres = df.groupby(['randomgenre'])['movie'].count().sort_values(ascending = False)[:5]\n",
    "top5genres"
   ]
  },
  {
   "cell_type": "code",
   "execution_count": 22,
   "metadata": {},
   "outputs": [],
   "source": [
    "top5genresdf = df.loc[(df['randomgenre']=='Drama') | (df['randomgenre']=='Comedy') |(df['randomgenre']=='Thriller') | \n",
    "                      (df['randomgenre']=='Action') | (df['randomgenre']=='Horror')]"
   ]
  },
  {
   "cell_type": "code",
   "execution_count": 23,
   "metadata": {},
   "outputs": [
    {
     "data": {
      "text/html": [
       "<div>\n",
       "<style scoped>\n",
       "    .dataframe tbody tr th:only-of-type {\n",
       "        vertical-align: middle;\n",
       "    }\n",
       "\n",
       "    .dataframe tbody tr th {\n",
       "        vertical-align: top;\n",
       "    }\n",
       "\n",
       "    .dataframe thead th {\n",
       "        text-align: right;\n",
       "    }\n",
       "</style>\n",
       "<table border=\"1\" class=\"dataframe\">\n",
       "  <thead>\n",
       "    <tr style=\"text-align: right;\">\n",
       "      <th></th>\n",
       "      <th>id</th>\n",
       "      <th>release_date</th>\n",
       "      <th>movie</th>\n",
       "      <th>production_budget</th>\n",
       "      <th>domestic_gross</th>\n",
       "      <th>worldwide_gross</th>\n",
       "      <th>year_released</th>\n",
       "      <th>age</th>\n",
       "      <th>decades</th>\n",
       "      <th>day</th>\n",
       "      <th>month</th>\n",
       "      <th>markup</th>\n",
       "      <th>profitmargin</th>\n",
       "      <th>netprofit</th>\n",
       "      <th>genres</th>\n",
       "      <th>randomgenre</th>\n",
       "      <th>ROI</th>\n",
       "    </tr>\n",
       "  </thead>\n",
       "  <tbody>\n",
       "    <tr>\n",
       "      <td>0</td>\n",
       "      <td>1</td>\n",
       "      <td>2009-12-18</td>\n",
       "      <td>Avatar</td>\n",
       "      <td>425000000</td>\n",
       "      <td>760507625</td>\n",
       "      <td>2776345279</td>\n",
       "      <td>2009</td>\n",
       "      <td>11</td>\n",
       "      <td>1</td>\n",
       "      <td>Friday</td>\n",
       "      <td>12</td>\n",
       "      <td>5.532577</td>\n",
       "      <td>0.846921</td>\n",
       "      <td>2351345279</td>\n",
       "      <td>['Action', 'Adventure', 'Fantasy', 'Science Fi...</td>\n",
       "      <td>Action</td>\n",
       "      <td>553.257713</td>\n",
       "    </tr>\n",
       "    <tr>\n",
       "      <td>1</td>\n",
       "      <td>2</td>\n",
       "      <td>2011-05-20</td>\n",
       "      <td>Pirates of the Caribbean: On Stranger Tides</td>\n",
       "      <td>410600000</td>\n",
       "      <td>241063875</td>\n",
       "      <td>1045663875</td>\n",
       "      <td>2011</td>\n",
       "      <td>9</td>\n",
       "      <td>0</td>\n",
       "      <td>Friday</td>\n",
       "      <td>5</td>\n",
       "      <td>1.546673</td>\n",
       "      <td>0.607331</td>\n",
       "      <td>635063875</td>\n",
       "      <td>['Action', 'Adventure', 'Fantasy']</td>\n",
       "      <td>Action</td>\n",
       "      <td>154.667286</td>\n",
       "    </tr>\n",
       "    <tr>\n",
       "      <td>3</td>\n",
       "      <td>4</td>\n",
       "      <td>2015-05-01</td>\n",
       "      <td>Avengers: Age of Ultron</td>\n",
       "      <td>330600000</td>\n",
       "      <td>459005868</td>\n",
       "      <td>1403013963</td>\n",
       "      <td>2015</td>\n",
       "      <td>5</td>\n",
       "      <td>0</td>\n",
       "      <td>Friday</td>\n",
       "      <td>5</td>\n",
       "      <td>3.243841</td>\n",
       "      <td>0.764364</td>\n",
       "      <td>1072413963</td>\n",
       "      <td>['Action', 'Adventure', 'Science Fiction']</td>\n",
       "      <td>Action</td>\n",
       "      <td>324.384139</td>\n",
       "    </tr>\n",
       "    <tr>\n",
       "      <td>10</td>\n",
       "      <td>11</td>\n",
       "      <td>2012-07-20</td>\n",
       "      <td>The Dark Knight Rises</td>\n",
       "      <td>275000000</td>\n",
       "      <td>448139099</td>\n",
       "      <td>1084439099</td>\n",
       "      <td>2012</td>\n",
       "      <td>8</td>\n",
       "      <td>0</td>\n",
       "      <td>Friday</td>\n",
       "      <td>7</td>\n",
       "      <td>2.943415</td>\n",
       "      <td>0.746413</td>\n",
       "      <td>809439099</td>\n",
       "      <td>['Action', 'Crime', 'Drama', 'Thriller']</td>\n",
       "      <td>Drama</td>\n",
       "      <td>294.341491</td>\n",
       "    </tr>\n",
       "    <tr>\n",
       "      <td>11</td>\n",
       "      <td>12</td>\n",
       "      <td>2018-05-25</td>\n",
       "      <td>Solo: A Star Wars Story</td>\n",
       "      <td>275000000</td>\n",
       "      <td>213767512</td>\n",
       "      <td>393151347</td>\n",
       "      <td>2018</td>\n",
       "      <td>2</td>\n",
       "      <td>0</td>\n",
       "      <td>Friday</td>\n",
       "      <td>5</td>\n",
       "      <td>0.429641</td>\n",
       "      <td>0.300524</td>\n",
       "      <td>118151347</td>\n",
       "      <td>['Action', 'Adventure', 'Science Fiction']</td>\n",
       "      <td>Action</td>\n",
       "      <td>42.964126</td>\n",
       "    </tr>\n",
       "  </tbody>\n",
       "</table>\n",
       "</div>"
      ],
      "text/plain": [
       "    id release_date                                        movie  \\\n",
       "0    1   2009-12-18                                       Avatar   \n",
       "1    2   2011-05-20  Pirates of the Caribbean: On Stranger Tides   \n",
       "3    4   2015-05-01                      Avengers: Age of Ultron   \n",
       "10  11   2012-07-20                        The Dark Knight Rises   \n",
       "11  12   2018-05-25                      Solo: A Star Wars Story   \n",
       "\n",
       "    production_budget  domestic_gross  worldwide_gross  year_released  age  \\\n",
       "0           425000000       760507625       2776345279           2009   11   \n",
       "1           410600000       241063875       1045663875           2011    9   \n",
       "3           330600000       459005868       1403013963           2015    5   \n",
       "10          275000000       448139099       1084439099           2012    8   \n",
       "11          275000000       213767512        393151347           2018    2   \n",
       "\n",
       "    decades     day  month    markup  profitmargin   netprofit  \\\n",
       "0         1  Friday     12  5.532577      0.846921  2351345279   \n",
       "1         0  Friday      5  1.546673      0.607331   635063875   \n",
       "3         0  Friday      5  3.243841      0.764364  1072413963   \n",
       "10        0  Friday      7  2.943415      0.746413   809439099   \n",
       "11        0  Friday      5  0.429641      0.300524   118151347   \n",
       "\n",
       "                                               genres randomgenre         ROI  \n",
       "0   ['Action', 'Adventure', 'Fantasy', 'Science Fi...      Action  553.257713  \n",
       "1                  ['Action', 'Adventure', 'Fantasy']      Action  154.667286  \n",
       "3          ['Action', 'Adventure', 'Science Fiction']      Action  324.384139  \n",
       "10           ['Action', 'Crime', 'Drama', 'Thriller']       Drama  294.341491  \n",
       "11         ['Action', 'Adventure', 'Science Fiction']      Action   42.964126  "
      ]
     },
     "execution_count": 23,
     "metadata": {},
     "output_type": "execute_result"
    }
   ],
   "source": [
    "top5genresdf.head()"
   ]
  },
  {
   "cell_type": "code",
   "execution_count": 26,
   "metadata": {},
   "outputs": [
    {
     "data": {
      "text/plain": [
       "<matplotlib.axes._subplots.AxesSubplot at 0x1a25cfd7f0>"
      ]
     },
     "execution_count": 26,
     "metadata": {},
     "output_type": "execute_result"
    },
    {
     "data": {
      "image/png": "[encoded data removed]",
      "text/plain": [
       "<Figure size 432x288 with 1 Axes>"
      ]
     },
     "metadata": {
      "needs_background": "light"
     },
     "output_type": "display_data"
    }
   ],
   "source": [
    "top5genresdf['randomgenre'].hist()"
   ]
  },
  {
   "cell_type": "code",
   "execution_count": 28,
   "metadata": {},
   "outputs": [
    {
     "data": {
      "text/plain": [
       "<matplotlib.axes._subplots.AxesSubplot at 0x1a267d4208>"
      ]
     },
     "execution_count": 28,
     "metadata": {},
     "output_type": "execute_result"
    },
    {
     "data": {
      "image/png": "[encoded data removed]",
      "text/plain": [
       "<Figure size 432x288 with 1 Axes>"
      ]
     },
     "metadata": {
      "needs_background": "light"
     },
     "output_type": "display_data"
    }
   ],
   "source": [
    "top5genresdf['worldwide_gross'].hist()"
   ]
  },
  {
   "cell_type": "code",
   "execution_count": 29,
   "metadata": {},
   "outputs": [],
   "source": [
    "# Given how skewed Worldwide gross is - use median"
   ]
  },
  {
   "cell_type": "code",
   "execution_count": 27,
   "metadata": {},
   "outputs": [
    {
     "data": {
      "text/html": [
       "<div>\n",
       "<style scoped>\n",
       "    .dataframe tbody tr th:only-of-type {\n",
       "        vertical-align: middle;\n",
       "    }\n",
       "\n",
       "    .dataframe tbody tr th {\n",
       "        vertical-align: top;\n",
       "    }\n",
       "\n",
       "    .dataframe thead th {\n",
       "        text-align: right;\n",
       "    }\n",
       "</style>\n",
       "<table border=\"1\" class=\"dataframe\">\n",
       "  <thead>\n",
       "    <tr style=\"text-align: right;\">\n",
       "      <th></th>\n",
       "      <th>sum</th>\n",
       "      <th>mean</th>\n",
       "      <th>median</th>\n",
       "      <th>count</th>\n",
       "    </tr>\n",
       "    <tr>\n",
       "      <th>randomgenre</th>\n",
       "      <th></th>\n",
       "      <th></th>\n",
       "      <th></th>\n",
       "      <th></th>\n",
       "    </tr>\n",
       "  </thead>\n",
       "  <tbody>\n",
       "    <tr>\n",
       "      <td>Action</td>\n",
       "      <td>34268068745</td>\n",
       "      <td>2.115313e+08</td>\n",
       "      <td>84977313.5</td>\n",
       "      <td>162</td>\n",
       "    </tr>\n",
       "    <tr>\n",
       "      <td>Comedy</td>\n",
       "      <td>27709660631</td>\n",
       "      <td>9.588118e+07</td>\n",
       "      <td>42493506.0</td>\n",
       "      <td>289</td>\n",
       "    </tr>\n",
       "    <tr>\n",
       "      <td>Drama</td>\n",
       "      <td>28878172003</td>\n",
       "      <td>6.305278e+07</td>\n",
       "      <td>21757876.5</td>\n",
       "      <td>458</td>\n",
       "    </tr>\n",
       "    <tr>\n",
       "      <td>Horror</td>\n",
       "      <td>7859010734</td>\n",
       "      <td>5.778684e+07</td>\n",
       "      <td>24463026.0</td>\n",
       "      <td>136</td>\n",
       "    </tr>\n",
       "    <tr>\n",
       "      <td>Thriller</td>\n",
       "      <td>17114318134</td>\n",
       "      <td>8.389372e+07</td>\n",
       "      <td>18575081.0</td>\n",
       "      <td>204</td>\n",
       "    </tr>\n",
       "  </tbody>\n",
       "</table>\n",
       "</div>"
      ],
      "text/plain": [
       "                     sum          mean      median  count\n",
       "randomgenre                                              \n",
       "Action       34268068745  2.115313e+08  84977313.5    162\n",
       "Comedy       27709660631  9.588118e+07  42493506.0    289\n",
       "Drama        28878172003  6.305278e+07  21757876.5    458\n",
       "Horror        7859010734  5.778684e+07  24463026.0    136\n",
       "Thriller     17114318134  8.389372e+07  18575081.0    204"
      ]
     },
     "execution_count": 27,
     "metadata": {},
     "output_type": "execute_result"
    }
   ],
   "source": [
    "top5genresdf.groupby('randomgenre')['worldwide_gross'].agg(['sum','mean','median','count'])"
   ]
  },
  {
   "cell_type": "code",
   "execution_count": 58,
   "metadata": {},
   "outputs": [
    {
     "data": {
      "text/plain": [
       "Text(0, 0.5, 'Worldwide Gross in Billions (USD)')"
      ]
     },
     "execution_count": 58,
     "metadata": {},
     "output_type": "execute_result"
    },
    {
     "data": {
      "image/png": "[encoded data removed]",
      "text/plain": [
       "<Figure size 1080x864 with 1 Axes>"
      ]
     },
     "metadata": {
      "needs_background": "light"
     },
     "output_type": "display_data"
    }
   ],
   "source": [
    "fig, axes=plt.subplots(nrows=1, ncols=1, figsize=(15,12))\n",
    "ax = sns.violinplot(x = 'randomgenre', y = 'worldwide_gross', data=top5genresdf, inner = 'box')\n",
    "ax.set_title(\"Worldwide Gross of the top 5 Genres\", size = 20, pad = 20)\n",
    "ax.set_xlabel(\"\")\n",
    "ax.set_ylabel(\"Worldwide Gross in Billions (USD)\",labelpad = 30, size = 20)\n"
   ]
  },
  {
   "cell_type": "code",
   "execution_count": 50,
   "metadata": {},
   "outputs": [
    {
     "data": {
      "text/plain": [
       "2776345279"
      ]
     },
     "execution_count": 50,
     "metadata": {},
     "output_type": "execute_result"
    }
   ],
   "source": [
    "top5genresdf['worldwide_gross'].max()"
   ]
  },
  {
   "cell_type": "code",
   "execution_count": 36,
   "metadata": {},
   "outputs": [
    {
     "data": {
      "text/plain": [
       "2776345279"
      ]
     },
     "execution_count": 36,
     "metadata": {},
     "output_type": "execute_result"
    }
   ],
   "source": [
    "top5genresdf['worldwide_gross'].max()"
   ]
  },
  {
   "cell_type": "code",
   "execution_count": 37,
   "metadata": {
    "scrolled": false
   },
   "outputs": [
    {
     "data": {
      "text/plain": [
       "Text(0, 0.5, 'Worldwide Net in Billions (USD)')"
      ]
     },
     "execution_count": 37,
     "metadata": {},
     "output_type": "execute_result"
    },
    {
     "data": {
      "image/png": "[encoded data removed]",
      "text/plain": [
       "<Figure size 1080x1080 with 1 Axes>"
      ]
     },
     "metadata": {
      "needs_background": "light"
     },
     "output_type": "display_data"
    }
   ],
   "source": [
    "fig, axes=plt.subplots(nrows=1, ncols=1, figsize=(15,15))\n",
    "ax = sns.violinplot(x = 'randomgenre', y = 'netprofit', data=top5genresdf)\n",
    "ax.set_title(\"Worldwide Net of the top 5 Genres\", size = 20, pad = 20)\n",
    "ax.set_xlabel(\"\")\n",
    "ax.set_ylabel(\"Worldwide Net in Billions (USD)\",labelpad = 30)"
   ]
  },
  {
   "cell_type": "code",
   "execution_count": 289,
   "metadata": {},
   "outputs": [
    {
     "data": {
      "text/plain": [
       "Text(0, 0.5, 'Production Budget in Billions (USD)')"
      ]
     },
     "execution_count": 289,
     "metadata": {},
     "output_type": "execute_result"
    },
    {
     "data": {
      "image/png": "[encoded data removed]",
      "text/plain": [
       "<Figure size 720x720 with 1 Axes>"
      ]
     },
     "metadata": {
      "needs_background": "light"
     },
     "output_type": "display_data"
    }
   ],
   "source": [
    "fig, axes=plt.subplots(nrows=1, ncols=1, figsize=(10,10))\n",
    "ax = sns.violinplot(x = 'randomgenre', y = 'production_budget', data=top5genresdf)\n",
    "ax.set_title(\"Production Budget of the top 5 Genres\", size = 20, pad = 20)\n",
    "ax.set_xlabel(\"\")\n",
    "ax.set_ylabel(\"Production Budget in Billions (USD)\",labelpad = 30)"
   ]
  },
  {
   "cell_type": "code",
   "execution_count": 290,
   "metadata": {},
   "outputs": [
    {
     "data": {
      "text/plain": [
       "9000"
      ]
     },
     "execution_count": 290,
     "metadata": {},
     "output_type": "execute_result"
    }
   ],
   "source": [
    "top5genresdf['production_budget'].min()"
   ]
  },
  {
   "cell_type": "code",
   "execution_count": null,
   "metadata": {},
   "outputs": [],
   "source": []
  },
  {
   "cell_type": "code",
   "execution_count": 291,
   "metadata": {},
   "outputs": [],
   "source": [
    "# What are the genres of the top 250 grossing films of all time"
   ]
  },
  {
   "cell_type": "code",
   "execution_count": 73,
   "metadata": {},
   "outputs": [],
   "source": [
    "top20grossingfilms = pd.DataFrame(df.groupby(['movie','randomgenre'])['worldwide_gross'].sum().sort_values(ascending = False )[:500])\n"
   ]
  },
  {
   "cell_type": "code",
   "execution_count": 74,
   "metadata": {},
   "outputs": [],
   "source": [
    "top20grossingfilms.reset_index(inplace= True)"
   ]
  },
  {
   "cell_type": "code",
   "execution_count": 75,
   "metadata": {},
   "outputs": [],
   "source": [
    "count = top20grossingfilms.groupby('randomgenre')['movie'].count()"
   ]
  },
  {
   "cell_type": "code",
   "execution_count": 76,
   "metadata": {},
   "outputs": [
    {
     "data": {
      "text/plain": [
       "<matplotlib.axes._subplots.AxesSubplot at 0x1a2a6759e8>"
      ]
     },
     "execution_count": 76,
     "metadata": {},
     "output_type": "execute_result"
    },
    {
     "data": {
      "image/png": "[encoded data removed]",
      "text/plain": [
       "<Figure size 432x288 with 1 Axes>"
      ]
     },
     "metadata": {
      "needs_background": "light"
     },
     "output_type": "display_data"
    }
   ],
   "source": [
    "count.plot(kind = 'barh',colormap = 'rainbow_r')"
   ]
  },
  {
   "cell_type": "code",
   "execution_count": null,
   "metadata": {},
   "outputs": [],
   "source": []
  },
  {
   "cell_type": "code",
   "execution_count": 78,
   "metadata": {},
   "outputs": [
    {
     "data": {
      "text/plain": [
       "randomgenre\n",
       "Action       82.474568\n",
       "Comedy      102.955240\n",
       "Drama        52.289021\n",
       "Horror       42.503049\n",
       "Thriller     26.274550\n",
       "Name: ROI, dtype: float64"
      ]
     },
     "execution_count": 78,
     "metadata": {},
     "output_type": "execute_result"
    }
   ],
   "source": [
    "top5genresdf.groupby('randomgenre')['ROI'].median()"
   ]
  },
  {
   "cell_type": "code",
   "execution_count": 80,
   "metadata": {},
   "outputs": [
    {
     "data": {
      "text/plain": [
       "Text(0, 0.5, 'Markup')"
      ]
     },
     "execution_count": 80,
     "metadata": {},
     "output_type": "execute_result"
    },
    {
     "data": {
      "image/png": "[encoded data removed]",
      "text/plain": [
       "<Figure size 1440x720 with 2 Axes>"
      ]
     },
     "metadata": {
      "needs_background": "light"
     },
     "output_type": "display_data"
    }
   ],
   "source": [
    "fig, axes=plt.subplots(nrows=1, ncols=2, figsize=(20,10))\n",
    "ax = axes[0]\n",
    "ax1 = axes[1]\n",
    "\n",
    "\n",
    "sns.violinplot(x = 'randomgenre', y = 'worldwide_gross', data=top5genresdf,ax=ax)\n",
    "ax.set_title(\"Worldwide Gross of the top 5 Genres\", size = 20, pad = 20)\n",
    "ax.set_xlabel(\"\")\n",
    "ax.set_ylabel(\"Worldwide Gross in Billions (USD)\",labelpad = 15, size = 20)\n",
    "\n",
    "sns.violinplot(x = 'randomgenre', y = 'markup', data=top5genresdf, ax=ax1)\n",
    "ax1.set_title(\"Markup for the top 5 Genres\", size = 20, pad = 20)\n",
    "ax1.set_xlabel(\"\")\n",
    "ax1.set_ylabel(\"Markup\",labelpad = 15, size = 20)"
   ]
  },
  {
   "cell_type": "code",
   "execution_count": 83,
   "metadata": {},
   "outputs": [
    {
     "data": {
      "text/plain": [
       "Text(0, 0.5, 'Production Budget')"
      ]
     },
     "execution_count": 83,
     "metadata": {},
     "output_type": "execute_result"
    },
    {
     "data": {
      "image/png": "[encoded data removed]",
      "text/plain": [
       "<Figure size 1440x720 with 2 Axes>"
      ]
     },
     "metadata": {
      "needs_background": "light"
     },
     "output_type": "display_data"
    }
   ],
   "source": [
    "fig, axes=plt.subplots(nrows=1, ncols=2, figsize=(20,10))\n",
    "ax = axes[0]\n",
    "ax1 = axes[1]\n",
    "\n",
    "\n",
    "sns.violinplot(x = 'randomgenre', y = 'worldwide_gross', data=top5genresdf, inner = 'box',ax=ax)\n",
    "ax.set_title(\"Worldwide Gross of the top 5 Genres\", size = 20, pad = 20)\n",
    "ax.set_xlabel(\"\")\n",
    "ax.set_ylabel(\"Worldwide Gross in Billions (USD)\",labelpad = 15, size = 20)\n",
    "\n",
    "sns.violinplot(x = 'randomgenre', y = 'production_budget', data=top5genresdf, ax=ax1)\n",
    "ax1.set_title(\"production budget for the top 5 Genres\", size = 20, pad = 20)\n",
    "ax1.set_xlabel(\"\")\n",
    "ax1.set_ylabel(\"Production Budget\",labelpad = 15, size = 20)"
   ]
  },
  {
   "cell_type": "markdown",
   "metadata": {},
   "source": [
    "# Exploring the Option of Heatmaps - Decided it was not a good option"
   ]
  },
  {
   "cell_type": "code",
   "execution_count": 121,
   "metadata": {},
   "outputs": [],
   "source": [
    "%store -r df4decades\n"
   ]
  },
  {
   "cell_type": "code",
   "execution_count": 180,
   "metadata": {},
   "outputs": [
    {
     "data": {
      "text/html": [
       "<div>\n",
       "<style scoped>\n",
       "    .dataframe tbody tr th:only-of-type {\n",
       "        vertical-align: middle;\n",
       "    }\n",
       "\n",
       "    .dataframe tbody tr th {\n",
       "        vertical-align: top;\n",
       "    }\n",
       "\n",
       "    .dataframe thead th {\n",
       "        text-align: right;\n",
       "    }\n",
       "</style>\n",
       "<table border=\"1\" class=\"dataframe\">\n",
       "  <thead>\n",
       "    <tr style=\"text-align: right;\">\n",
       "      <th></th>\n",
       "      <th>id</th>\n",
       "      <th>release_date</th>\n",
       "      <th>movie</th>\n",
       "      <th>production_budget</th>\n",
       "      <th>domestic_gross</th>\n",
       "      <th>worldwide_gross</th>\n",
       "      <th>year_released</th>\n",
       "      <th>age</th>\n",
       "      <th>decades</th>\n",
       "      <th>day</th>\n",
       "      <th>month</th>\n",
       "      <th>markup</th>\n",
       "      <th>profitmargin</th>\n",
       "      <th>netprofit</th>\n",
       "      <th>genres</th>\n",
       "      <th>randomgenre</th>\n",
       "      <th>ROI</th>\n",
       "    </tr>\n",
       "  </thead>\n",
       "  <tbody>\n",
       "    <tr>\n",
       "      <td>0</td>\n",
       "      <td>1</td>\n",
       "      <td>2009-12-18</td>\n",
       "      <td>Avatar</td>\n",
       "      <td>425000000</td>\n",
       "      <td>760507625</td>\n",
       "      <td>2776345279</td>\n",
       "      <td>2009</td>\n",
       "      <td>11</td>\n",
       "      <td>1</td>\n",
       "      <td>Friday</td>\n",
       "      <td>12</td>\n",
       "      <td>5.532577</td>\n",
       "      <td>0.846921</td>\n",
       "      <td>2351345279</td>\n",
       "      <td>['Action', 'Adventure', 'Fantasy', 'Science Fi...</td>\n",
       "      <td>Action</td>\n",
       "      <td>553.257713</td>\n",
       "    </tr>\n",
       "    <tr>\n",
       "      <td>1</td>\n",
       "      <td>2</td>\n",
       "      <td>2011-05-20</td>\n",
       "      <td>Pirates of the Caribbean: On Stranger Tides</td>\n",
       "      <td>410600000</td>\n",
       "      <td>241063875</td>\n",
       "      <td>1045663875</td>\n",
       "      <td>2011</td>\n",
       "      <td>9</td>\n",
       "      <td>0</td>\n",
       "      <td>Friday</td>\n",
       "      <td>5</td>\n",
       "      <td>1.546673</td>\n",
       "      <td>0.607331</td>\n",
       "      <td>635063875</td>\n",
       "      <td>['Action', 'Adventure', 'Fantasy']</td>\n",
       "      <td>Action</td>\n",
       "      <td>154.667286</td>\n",
       "    </tr>\n",
       "    <tr>\n",
       "      <td>3</td>\n",
       "      <td>4</td>\n",
       "      <td>2015-05-01</td>\n",
       "      <td>Avengers: Age of Ultron</td>\n",
       "      <td>330600000</td>\n",
       "      <td>459005868</td>\n",
       "      <td>1403013963</td>\n",
       "      <td>2015</td>\n",
       "      <td>5</td>\n",
       "      <td>0</td>\n",
       "      <td>Friday</td>\n",
       "      <td>5</td>\n",
       "      <td>3.243841</td>\n",
       "      <td>0.764364</td>\n",
       "      <td>1072413963</td>\n",
       "      <td>['Action', 'Adventure', 'Science Fiction']</td>\n",
       "      <td>Action</td>\n",
       "      <td>324.384139</td>\n",
       "    </tr>\n",
       "    <tr>\n",
       "      <td>6</td>\n",
       "      <td>7</td>\n",
       "      <td>2018-04-27</td>\n",
       "      <td>Avengers: Infinity War</td>\n",
       "      <td>300000000</td>\n",
       "      <td>678815482</td>\n",
       "      <td>2048134200</td>\n",
       "      <td>2018</td>\n",
       "      <td>2</td>\n",
       "      <td>0</td>\n",
       "      <td>Friday</td>\n",
       "      <td>4</td>\n",
       "      <td>5.827114</td>\n",
       "      <td>0.853525</td>\n",
       "      <td>1748134200</td>\n",
       "      <td>['Action', 'Adventure', 'Fantasy']</td>\n",
       "      <td>Fantasy</td>\n",
       "      <td>582.711400</td>\n",
       "    </tr>\n",
       "    <tr>\n",
       "      <td>8</td>\n",
       "      <td>9</td>\n",
       "      <td>2017-11-17</td>\n",
       "      <td>Justice League</td>\n",
       "      <td>300000000</td>\n",
       "      <td>229024295</td>\n",
       "      <td>655945209</td>\n",
       "      <td>2017</td>\n",
       "      <td>3</td>\n",
       "      <td>0</td>\n",
       "      <td>Friday</td>\n",
       "      <td>11</td>\n",
       "      <td>1.186484</td>\n",
       "      <td>0.542645</td>\n",
       "      <td>355945209</td>\n",
       "      <td>['Action', 'Adventure', 'Fantasy', 'Science Fi...</td>\n",
       "      <td>Science Fiction</td>\n",
       "      <td>118.648403</td>\n",
       "    </tr>\n",
       "    <tr>\n",
       "      <td>...</td>\n",
       "      <td>...</td>\n",
       "      <td>...</td>\n",
       "      <td>...</td>\n",
       "      <td>...</td>\n",
       "      <td>...</td>\n",
       "      <td>...</td>\n",
       "      <td>...</td>\n",
       "      <td>...</td>\n",
       "      <td>...</td>\n",
       "      <td>...</td>\n",
       "      <td>...</td>\n",
       "      <td>...</td>\n",
       "      <td>...</td>\n",
       "      <td>...</td>\n",
       "      <td>...</td>\n",
       "      <td>...</td>\n",
       "      <td>...</td>\n",
       "    </tr>\n",
       "    <tr>\n",
       "      <td>5748</td>\n",
       "      <td>49</td>\n",
       "      <td>2015-09-01</td>\n",
       "      <td>Exeter</td>\n",
       "      <td>25000</td>\n",
       "      <td>0</td>\n",
       "      <td>489792</td>\n",
       "      <td>2015</td>\n",
       "      <td>5</td>\n",
       "      <td>0</td>\n",
       "      <td>Tuesday</td>\n",
       "      <td>9</td>\n",
       "      <td>18.591680</td>\n",
       "      <td>0.948958</td>\n",
       "      <td>464792</td>\n",
       "      <td>['Horror', 'Thriller']</td>\n",
       "      <td>Thriller</td>\n",
       "      <td>1859.168000</td>\n",
       "    </tr>\n",
       "    <tr>\n",
       "      <td>5750</td>\n",
       "      <td>51</td>\n",
       "      <td>2015-04-21</td>\n",
       "      <td>Ten</td>\n",
       "      <td>25000</td>\n",
       "      <td>0</td>\n",
       "      <td>0</td>\n",
       "      <td>2015</td>\n",
       "      <td>5</td>\n",
       "      <td>0</td>\n",
       "      <td>Tuesday</td>\n",
       "      <td>4</td>\n",
       "      <td>-1.000000</td>\n",
       "      <td>-inf</td>\n",
       "      <td>-25000</td>\n",
       "      <td>['Adventure', 'Horror', 'Mystery', 'Thriller']</td>\n",
       "      <td>Horror</td>\n",
       "      <td>-100.000000</td>\n",
       "    </tr>\n",
       "    <tr>\n",
       "      <td>5753</td>\n",
       "      <td>54</td>\n",
       "      <td>2014-12-31</td>\n",
       "      <td>Dry Spell</td>\n",
       "      <td>22000</td>\n",
       "      <td>0</td>\n",
       "      <td>0</td>\n",
       "      <td>2014</td>\n",
       "      <td>6</td>\n",
       "      <td>0</td>\n",
       "      <td>Wednesday</td>\n",
       "      <td>12</td>\n",
       "      <td>-1.000000</td>\n",
       "      <td>-inf</td>\n",
       "      <td>-22000</td>\n",
       "      <td>['Comedy', 'Romance']</td>\n",
       "      <td>Comedy</td>\n",
       "      <td>-100.000000</td>\n",
       "    </tr>\n",
       "    <tr>\n",
       "      <td>5755</td>\n",
       "      <td>56</td>\n",
       "      <td>2013-01-04</td>\n",
       "      <td>All Superheroes Must Die</td>\n",
       "      <td>20000</td>\n",
       "      <td>0</td>\n",
       "      <td>0</td>\n",
       "      <td>2013</td>\n",
       "      <td>7</td>\n",
       "      <td>0</td>\n",
       "      <td>Friday</td>\n",
       "      <td>1</td>\n",
       "      <td>-1.000000</td>\n",
       "      <td>-inf</td>\n",
       "      <td>-20000</td>\n",
       "      <td>['Science Fiction', 'Thriller']</td>\n",
       "      <td>Thriller</td>\n",
       "      <td>-100.000000</td>\n",
       "    </tr>\n",
       "    <tr>\n",
       "      <td>5772</td>\n",
       "      <td>73</td>\n",
       "      <td>2012-01-13</td>\n",
       "      <td>Newlyweds</td>\n",
       "      <td>9000</td>\n",
       "      <td>4584</td>\n",
       "      <td>4584</td>\n",
       "      <td>2012</td>\n",
       "      <td>8</td>\n",
       "      <td>0</td>\n",
       "      <td>Friday</td>\n",
       "      <td>1</td>\n",
       "      <td>-0.490667</td>\n",
       "      <td>-0.963351</td>\n",
       "      <td>-4416</td>\n",
       "      <td>['Comedy', 'Romance']</td>\n",
       "      <td>Comedy</td>\n",
       "      <td>-49.066667</td>\n",
       "    </tr>\n",
       "  </tbody>\n",
       "</table>\n",
       "<p>1901 rows × 17 columns</p>\n",
       "</div>"
      ],
      "text/plain": [
       "      id release_date                                        movie  \\\n",
       "0      1   2009-12-18                                       Avatar   \n",
       "1      2   2011-05-20  Pirates of the Caribbean: On Stranger Tides   \n",
       "3      4   2015-05-01                      Avengers: Age of Ultron   \n",
       "6      7   2018-04-27                       Avengers: Infinity War   \n",
       "8      9   2017-11-17                               Justice League   \n",
       "...   ..          ...                                          ...   \n",
       "5748  49   2015-09-01                                       Exeter   \n",
       "5750  51   2015-04-21                                          Ten   \n",
       "5753  54   2014-12-31                                    Dry Spell   \n",
       "5755  56   2013-01-04                     All Superheroes Must Die   \n",
       "5772  73   2012-01-13                                    Newlyweds   \n",
       "\n",
       "      production_budget  domestic_gross  worldwide_gross  year_released  age  \\\n",
       "0             425000000       760507625       2776345279           2009   11   \n",
       "1             410600000       241063875       1045663875           2011    9   \n",
       "3             330600000       459005868       1403013963           2015    5   \n",
       "6             300000000       678815482       2048134200           2018    2   \n",
       "8             300000000       229024295        655945209           2017    3   \n",
       "...                 ...             ...              ...            ...  ...   \n",
       "5748              25000               0           489792           2015    5   \n",
       "5750              25000               0                0           2015    5   \n",
       "5753              22000               0                0           2014    6   \n",
       "5755              20000               0                0           2013    7   \n",
       "5772               9000            4584             4584           2012    8   \n",
       "\n",
       "      decades        day  month     markup  profitmargin   netprofit  \\\n",
       "0           1     Friday     12   5.532577      0.846921  2351345279   \n",
       "1           0     Friday      5   1.546673      0.607331   635063875   \n",
       "3           0     Friday      5   3.243841      0.764364  1072413963   \n",
       "6           0     Friday      4   5.827114      0.853525  1748134200   \n",
       "8           0     Friday     11   1.186484      0.542645   355945209   \n",
       "...       ...        ...    ...        ...           ...         ...   \n",
       "5748        0    Tuesday      9  18.591680      0.948958      464792   \n",
       "5750        0    Tuesday      4  -1.000000          -inf      -25000   \n",
       "5753        0  Wednesday     12  -1.000000          -inf      -22000   \n",
       "5755        0     Friday      1  -1.000000          -inf      -20000   \n",
       "5772        0     Friday      1  -0.490667     -0.963351       -4416   \n",
       "\n",
       "                                                 genres      randomgenre  \\\n",
       "0     ['Action', 'Adventure', 'Fantasy', 'Science Fi...           Action   \n",
       "1                    ['Action', 'Adventure', 'Fantasy']           Action   \n",
       "3            ['Action', 'Adventure', 'Science Fiction']           Action   \n",
       "6                    ['Action', 'Adventure', 'Fantasy']          Fantasy   \n",
       "8     ['Action', 'Adventure', 'Fantasy', 'Science Fi...  Science Fiction   \n",
       "...                                                 ...              ...   \n",
       "5748                             ['Horror', 'Thriller']         Thriller   \n",
       "5750     ['Adventure', 'Horror', 'Mystery', 'Thriller']           Horror   \n",
       "5753                              ['Comedy', 'Romance']           Comedy   \n",
       "5755                    ['Science Fiction', 'Thriller']         Thriller   \n",
       "5772                              ['Comedy', 'Romance']           Comedy   \n",
       "\n",
       "              ROI  \n",
       "0      553.257713  \n",
       "1      154.667286  \n",
       "3      324.384139  \n",
       "6      582.711400  \n",
       "8      118.648403  \n",
       "...           ...  \n",
       "5748  1859.168000  \n",
       "5750  -100.000000  \n",
       "5753  -100.000000  \n",
       "5755  -100.000000  \n",
       "5772   -49.066667  \n",
       "\n",
       "[1901 rows x 17 columns]"
      ]
     },
     "execution_count": 180,
     "metadata": {},
     "output_type": "execute_result"
    }
   ],
   "source": [
    "df4decades = df.loc[(df['decades']== 0) |(df['decades']== 1) | (df['decades']== 2)| (df['decades']== 3)]\n",
    "df4decades"
   ]
  },
  {
   "cell_type": "code",
   "execution_count": 226,
   "metadata": {},
   "outputs": [],
   "source": [
    "df10 = df.loc[df['decades']==0]"
   ]
  },
  {
   "cell_type": "code",
   "execution_count": 181,
   "metadata": {},
   "outputs": [],
   "source": [
    "df4decades.loc[(df4decades['decades'] == 0), 'decades'] = '2010s'\n",
    "df4decades.loc[(df4decades['decades'] == 1), 'decades'] = '2000s'\n",
    "df4decades.loc[(df4decades['decades'] == 2), 'decades'] = '1990s'\n",
    "df4decades.loc[(df4decades['decades'] == 3), 'decades'] = '1980s'\n",
    "\n"
   ]
  },
  {
   "cell_type": "code",
   "execution_count": 189,
   "metadata": {},
   "outputs": [],
   "source": [
    "dfdata = pd.DataFrame(df4decades.groupby(['decades','randomgenre'])['movie'].count())"
   ]
  },
  {
   "cell_type": "code",
   "execution_count": 192,
   "metadata": {},
   "outputs": [],
   "source": [
    "dfdata.reset_index(inplace = True)"
   ]
  },
  {
   "cell_type": "code",
   "execution_count": 193,
   "metadata": {},
   "outputs": [
    {
     "data": {
      "text/html": [
       "<div>\n",
       "<style scoped>\n",
       "    .dataframe tbody tr th:only-of-type {\n",
       "        vertical-align: middle;\n",
       "    }\n",
       "\n",
       "    .dataframe tbody tr th {\n",
       "        vertical-align: top;\n",
       "    }\n",
       "\n",
       "    .dataframe thead th {\n",
       "        text-align: right;\n",
       "    }\n",
       "</style>\n",
       "<table border=\"1\" class=\"dataframe\">\n",
       "  <thead>\n",
       "    <tr style=\"text-align: right;\">\n",
       "      <th></th>\n",
       "      <th>decades</th>\n",
       "      <th>randomgenre</th>\n",
       "      <th>movie</th>\n",
       "    </tr>\n",
       "  </thead>\n",
       "  <tbody>\n",
       "    <tr>\n",
       "      <td>0</td>\n",
       "      <td>1980s</td>\n",
       "      <td>Action</td>\n",
       "      <td>1</td>\n",
       "    </tr>\n",
       "    <tr>\n",
       "      <td>1</td>\n",
       "      <td>1980s</td>\n",
       "      <td>Adventure</td>\n",
       "      <td>7</td>\n",
       "    </tr>\n",
       "    <tr>\n",
       "      <td>2</td>\n",
       "      <td>1980s</td>\n",
       "      <td>Comedy</td>\n",
       "      <td>4</td>\n",
       "    </tr>\n",
       "    <tr>\n",
       "      <td>3</td>\n",
       "      <td>1980s</td>\n",
       "      <td>Crime</td>\n",
       "      <td>3</td>\n",
       "    </tr>\n",
       "    <tr>\n",
       "      <td>4</td>\n",
       "      <td>1980s</td>\n",
       "      <td>Documentary</td>\n",
       "      <td>1</td>\n",
       "    </tr>\n",
       "  </tbody>\n",
       "</table>\n",
       "</div>"
      ],
      "text/plain": [
       "  decades  randomgenre  movie\n",
       "0   1980s       Action      1\n",
       "1   1980s    Adventure      7\n",
       "2   1980s       Comedy      4\n",
       "3   1980s        Crime      3\n",
       "4   1980s  Documentary      1"
      ]
     },
     "execution_count": 193,
     "metadata": {},
     "output_type": "execute_result"
    }
   ],
   "source": [
    "dfdata.head()"
   ]
  },
  {
   "cell_type": "code",
   "execution_count": 194,
   "metadata": {},
   "outputs": [],
   "source": [
    "heatmap5_data = pd.pivot_table(dfdata, values='movie', \n",
    "                     index=['randomgenre'], \n",
    "                     columns='decades')"
   ]
  },
  {
   "cell_type": "code",
   "execution_count": 130,
   "metadata": {},
   "outputs": [
    {
     "data": {
      "text/html": [
       "<div>\n",
       "<style scoped>\n",
       "    .dataframe tbody tr th:only-of-type {\n",
       "        vertical-align: middle;\n",
       "    }\n",
       "\n",
       "    .dataframe tbody tr th {\n",
       "        vertical-align: top;\n",
       "    }\n",
       "\n",
       "    .dataframe thead th {\n",
       "        text-align: right;\n",
       "    }\n",
       "</style>\n",
       "<table border=\"1\" class=\"dataframe\">\n",
       "  <thead>\n",
       "    <tr style=\"text-align: right;\">\n",
       "      <th></th>\n",
       "      <th>randomgenre</th>\n",
       "      <th>decades</th>\n",
       "      <th>worldwide_gross</th>\n",
       "    </tr>\n",
       "  </thead>\n",
       "  <tbody>\n",
       "    <tr>\n",
       "      <td>0</td>\n",
       "      <td>Action</td>\n",
       "      <td>2000s</td>\n",
       "      <td>2776345279</td>\n",
       "    </tr>\n",
       "    <tr>\n",
       "      <td>1</td>\n",
       "      <td>Action</td>\n",
       "      <td>2010s</td>\n",
       "      <td>1045663875</td>\n",
       "    </tr>\n",
       "    <tr>\n",
       "      <td>3</td>\n",
       "      <td>Action</td>\n",
       "      <td>2010s</td>\n",
       "      <td>1403013963</td>\n",
       "    </tr>\n",
       "    <tr>\n",
       "      <td>6</td>\n",
       "      <td>Fantasy</td>\n",
       "      <td>2010s</td>\n",
       "      <td>2048134200</td>\n",
       "    </tr>\n",
       "    <tr>\n",
       "      <td>8</td>\n",
       "      <td>Science Fiction</td>\n",
       "      <td>2010s</td>\n",
       "      <td>655945209</td>\n",
       "    </tr>\n",
       "    <tr>\n",
       "      <td>...</td>\n",
       "      <td>...</td>\n",
       "      <td>...</td>\n",
       "      <td>...</td>\n",
       "    </tr>\n",
       "    <tr>\n",
       "      <td>5748</td>\n",
       "      <td>Thriller</td>\n",
       "      <td>2010s</td>\n",
       "      <td>489792</td>\n",
       "    </tr>\n",
       "    <tr>\n",
       "      <td>5750</td>\n",
       "      <td>Horror</td>\n",
       "      <td>2010s</td>\n",
       "      <td>0</td>\n",
       "    </tr>\n",
       "    <tr>\n",
       "      <td>5753</td>\n",
       "      <td>Comedy</td>\n",
       "      <td>2010s</td>\n",
       "      <td>0</td>\n",
       "    </tr>\n",
       "    <tr>\n",
       "      <td>5755</td>\n",
       "      <td>Thriller</td>\n",
       "      <td>2010s</td>\n",
       "      <td>0</td>\n",
       "    </tr>\n",
       "    <tr>\n",
       "      <td>5772</td>\n",
       "      <td>Comedy</td>\n",
       "      <td>2010s</td>\n",
       "      <td>4584</td>\n",
       "    </tr>\n",
       "  </tbody>\n",
       "</table>\n",
       "<p>1901 rows × 3 columns</p>\n",
       "</div>"
      ],
      "text/plain": [
       "          randomgenre decades  worldwide_gross\n",
       "0              Action   2000s       2776345279\n",
       "1              Action   2010s       1045663875\n",
       "3              Action   2010s       1403013963\n",
       "6             Fantasy   2010s       2048134200\n",
       "8     Science Fiction   2010s        655945209\n",
       "...               ...     ...              ...\n",
       "5748         Thriller   2010s           489792\n",
       "5750           Horror   2010s                0\n",
       "5753           Comedy   2010s                0\n",
       "5755         Thriller   2010s                0\n",
       "5772           Comedy   2010s             4584\n",
       "\n",
       "[1901 rows x 3 columns]"
      ]
     },
     "execution_count": 130,
     "metadata": {},
     "output_type": "execute_result"
    }
   ],
   "source": [
    "df1 = df4decades[['randomgenre', 'decades','worldwide_gross']]\n",
    "df1"
   ]
  },
  {
   "cell_type": "code",
   "execution_count": 165,
   "metadata": {},
   "outputs": [
    {
     "data": {
      "text/html": [
       "<div>\n",
       "<style scoped>\n",
       "    .dataframe tbody tr th:only-of-type {\n",
       "        vertical-align: middle;\n",
       "    }\n",
       "\n",
       "    .dataframe tbody tr th {\n",
       "        vertical-align: top;\n",
       "    }\n",
       "\n",
       "    .dataframe thead th {\n",
       "        text-align: right;\n",
       "    }\n",
       "</style>\n",
       "<table border=\"1\" class=\"dataframe\">\n",
       "  <thead>\n",
       "    <tr style=\"text-align: right;\">\n",
       "      <th></th>\n",
       "      <th>randomgenre</th>\n",
       "      <th>decades</th>\n",
       "      <th>markup</th>\n",
       "    </tr>\n",
       "  </thead>\n",
       "  <tbody>\n",
       "    <tr>\n",
       "      <td>0</td>\n",
       "      <td>Action</td>\n",
       "      <td>2000s</td>\n",
       "      <td>5.532577</td>\n",
       "    </tr>\n",
       "    <tr>\n",
       "      <td>1</td>\n",
       "      <td>Action</td>\n",
       "      <td>2010s</td>\n",
       "      <td>1.546673</td>\n",
       "    </tr>\n",
       "    <tr>\n",
       "      <td>3</td>\n",
       "      <td>Action</td>\n",
       "      <td>2010s</td>\n",
       "      <td>3.243841</td>\n",
       "    </tr>\n",
       "    <tr>\n",
       "      <td>6</td>\n",
       "      <td>Fantasy</td>\n",
       "      <td>2010s</td>\n",
       "      <td>5.827114</td>\n",
       "    </tr>\n",
       "    <tr>\n",
       "      <td>8</td>\n",
       "      <td>Science Fiction</td>\n",
       "      <td>2010s</td>\n",
       "      <td>1.186484</td>\n",
       "    </tr>\n",
       "    <tr>\n",
       "      <td>...</td>\n",
       "      <td>...</td>\n",
       "      <td>...</td>\n",
       "      <td>...</td>\n",
       "    </tr>\n",
       "    <tr>\n",
       "      <td>5748</td>\n",
       "      <td>Thriller</td>\n",
       "      <td>2010s</td>\n",
       "      <td>18.591680</td>\n",
       "    </tr>\n",
       "    <tr>\n",
       "      <td>5750</td>\n",
       "      <td>Horror</td>\n",
       "      <td>2010s</td>\n",
       "      <td>-1.000000</td>\n",
       "    </tr>\n",
       "    <tr>\n",
       "      <td>5753</td>\n",
       "      <td>Comedy</td>\n",
       "      <td>2010s</td>\n",
       "      <td>-1.000000</td>\n",
       "    </tr>\n",
       "    <tr>\n",
       "      <td>5755</td>\n",
       "      <td>Thriller</td>\n",
       "      <td>2010s</td>\n",
       "      <td>-1.000000</td>\n",
       "    </tr>\n",
       "    <tr>\n",
       "      <td>5772</td>\n",
       "      <td>Comedy</td>\n",
       "      <td>2010s</td>\n",
       "      <td>-0.490667</td>\n",
       "    </tr>\n",
       "  </tbody>\n",
       "</table>\n",
       "<p>1901 rows × 3 columns</p>\n",
       "</div>"
      ],
      "text/plain": [
       "          randomgenre decades     markup\n",
       "0              Action   2000s   5.532577\n",
       "1              Action   2010s   1.546673\n",
       "3              Action   2010s   3.243841\n",
       "6             Fantasy   2010s   5.827114\n",
       "8     Science Fiction   2010s   1.186484\n",
       "...               ...     ...        ...\n",
       "5748         Thriller   2010s  18.591680\n",
       "5750           Horror   2010s  -1.000000\n",
       "5753           Comedy   2010s  -1.000000\n",
       "5755         Thriller   2010s  -1.000000\n",
       "5772           Comedy   2010s  -0.490667\n",
       "\n",
       "[1901 rows x 3 columns]"
      ]
     },
     "execution_count": 165,
     "metadata": {},
     "output_type": "execute_result"
    }
   ],
   "source": [
    "df2 = df4decades[['randomgenre', 'decades','markup']]\n",
    "df2"
   ]
  },
  {
   "cell_type": "code",
   "execution_count": 174,
   "metadata": {},
   "outputs": [],
   "source": [
    "df3 = df4decades[['randomgenre', 'decades','production_budget']]"
   ]
  },
  {
   "cell_type": "code",
   "execution_count": 206,
   "metadata": {},
   "outputs": [],
   "source": [
    "heatmap1_data = pd.pivot_table(df1, values='worldwide_gross', \n",
    "                     index=['randomgenre'], \n",
    "                     columns='decades')"
   ]
  },
  {
   "cell_type": "code",
   "execution_count": 134,
   "metadata": {},
   "outputs": [],
   "source": [
    "heatmap2_data = pd.pivot_table(df2, values='markup', \n",
    "                     index=['randomgenre'], \n",
    "                     columns='decades')"
   ]
  },
  {
   "cell_type": "code",
   "execution_count": 175,
   "metadata": {},
   "outputs": [],
   "source": [
    "heatmap3_data = pd.pivot_table(df3, values='production_budget', \n",
    "                     index=['randomgenre'], \n",
    "                     columns='decades')"
   ]
  },
  {
   "cell_type": "code",
   "execution_count": null,
   "metadata": {},
   "outputs": [],
   "source": [
    "df10.sort_values(by 'worldwide')"
   ]
  },
  {
   "cell_type": "code",
   "execution_count": 229,
   "metadata": {},
   "outputs": [],
   "source": [
    "df10.head()\n",
    "heatmapdf10_data = pd.pivot_table(df10, values='worldwide_gross', \n",
    "                     index=['randomgenre'], \n",
    "                     columns='year_released')"
   ]
  },
  {
   "cell_type": "code",
   "execution_count": 47,
   "metadata": {},
   "outputs": [
    {
     "ename": "NameError",
     "evalue": "name 'heatmapdf10_data' is not defined",
     "output_type": "error",
     "traceback": [
      "\u001b[0;31m---------------------------------------------------------------------------\u001b[0m",
      "\u001b[0;31mNameError\u001b[0m                                 Traceback (most recent call last)",
      "\u001b[0;32m<ipython-input-47-e6618f23fdb7>\u001b[0m in \u001b[0;36m<module>\u001b[0;34m\u001b[0m\n\u001b[1;32m      1\u001b[0m \u001b[0mfig\u001b[0m\u001b[0;34m,\u001b[0m \u001b[0maxes\u001b[0m\u001b[0;34m=\u001b[0m\u001b[0mplt\u001b[0m\u001b[0;34m.\u001b[0m\u001b[0msubplots\u001b[0m\u001b[0;34m(\u001b[0m\u001b[0mnrows\u001b[0m\u001b[0;34m=\u001b[0m\u001b[0;36m1\u001b[0m\u001b[0;34m,\u001b[0m \u001b[0mncols\u001b[0m\u001b[0;34m=\u001b[0m\u001b[0;36m1\u001b[0m\u001b[0;34m,\u001b[0m \u001b[0mfigsize\u001b[0m\u001b[0;34m=\u001b[0m\u001b[0;34m(\u001b[0m\u001b[0;36m30\u001b[0m\u001b[0;34m,\u001b[0m\u001b[0;36m10\u001b[0m\u001b[0;34m)\u001b[0m\u001b[0;34m)\u001b[0m\u001b[0;34m\u001b[0m\u001b[0;34m\u001b[0m\u001b[0m\n\u001b[0;32m----> 2\u001b[0;31m \u001b[0max\u001b[0m \u001b[0;34m=\u001b[0m\u001b[0msns\u001b[0m\u001b[0;34m.\u001b[0m\u001b[0mheatmap\u001b[0m\u001b[0;34m(\u001b[0m\u001b[0mheatmapdf10_data\u001b[0m\u001b[0;34m,\u001b[0m \u001b[0mcmap\u001b[0m\u001b[0;34m=\u001b[0m\u001b[0;34m\"rainbow\"\u001b[0m\u001b[0;34m,\u001b[0m\u001b[0mannot\u001b[0m\u001b[0;34m=\u001b[0m\u001b[0;32mTrue\u001b[0m\u001b[0;34m)\u001b[0m\u001b[0;34m\u001b[0m\u001b[0;34m\u001b[0m\u001b[0m\n\u001b[0m",
      "\u001b[0;31mNameError\u001b[0m: name 'heatmapdf10_data' is not defined"
     ]
    },
    {
     "data": {
      "image/png": "[encoded data removed]",
      "text/plain": [
       "<Figure size 2160x720 with 1 Axes>"
      ]
     },
     "metadata": {
      "needs_background": "light"
     },
     "output_type": "display_data"
    }
   ],
   "source": [
    "fig, axes=plt.subplots(nrows=1, ncols=1, figsize=(30,10))\n",
    "ax =sns.heatmap(heatmapdf10_data, cmap=\"rainbow\",annot=True)"
   ]
  },
  {
   "cell_type": "code",
   "execution_count": 200,
   "metadata": {
    "scrolled": false
   },
   "outputs": [
    {
     "data": {
      "image/png": "[encoded data removed]",
      "text/plain": [
       "<Figure size 1800x1080 with 2 Axes>"
      ]
     },
     "metadata": {
      "needs_background": "light"
     },
     "output_type": "display_data"
    }
   ],
   "source": [
    "fig, axes=plt.subplots(nrows=1, ncols=1, figsize=(25,15))\n",
    "ax =sns.heatmap(heatmap2_data, cmap=\"rainbow\",annot=True)"
   ]
  },
  {
   "cell_type": "code",
   "execution_count": 142,
   "metadata": {},
   "outputs": [
    {
     "ename": "SyntaxError",
     "evalue": "invalid syntax (<ipython-input-142-186c27bff896>, line 1)",
     "output_type": "error",
     "traceback": [
      "\u001b[0;36m  File \u001b[0;32m\"<ipython-input-142-186c27bff896>\"\u001b[0;36m, line \u001b[0;32m1\u001b[0m\n\u001b[0;31m    : Accent, Accent_r, Blues, Blues_r, BrBG, BrBG_r, BuGn, BuGn_r, BuPu, BuPu_r, CMRmap, CMRmap_r, Dark2, Dark2_r, GnBu, GnBu_r, Greens, Greens_r, Greys, Greys_r, OrRd, OrRd_r, Oranges, Oranges_r, PRGn, PRGn_r, Paired, Paired_r, Pastel1, Pastel1_r, Pastel2, Pastel2_r, PiYG, PiYG_r, PuBu, PuBuGn, PuBuGn_r, PuBu_r, PuOr, PuOr_r, PuRd, PuRd_r, Purples, Purples_r, RdBu, RdBu_r, RdGy, RdGy_r, RdPu, RdPu_r, RdYlBu, RdYlBu_r, RdYlGn, RdYlGn_r, Reds, Reds_r, Set1, Set1_r, Set2, Set2_r, Set3, Set3_r, Spectral, Spectral_r, Wistia, Wistia_r, YlGn, YlGnBu, YlGnBu_r, YlGn_r, YlOrBr, YlOrBr_r, YlOrRd, YlOrRd_r, afmhot, afmhot_r, autumn, autumn_r, binary, binary_r, bone, bone_r, brg, brg_r, bwr, bwr_r, cividis, cividis_r, cool, cool_r, coolwarm, coolwarm_r, copper, copper_r, cubehelix, cubehelix_r, flag, flag_r, gist_earth, gist_earth_r, gist_gray, gist_gray_r, gist_heat, gist_heat_r, gist_ncar, gist_ncar_r, gist_rainbow, gist_rainbow_r, gist_stern, gist_stern_r, gist_yarg, gist_yarg_r, gnuplot, gnuplot2, gnuplot2_r, gnuplot_r, gray, gray_r, hot, hot_r, hsv, hsv_r, icefire, icefire_r, inferno, inferno_r, jet, jet_r, magma, magma_r, mako, mako_r, nipy_spectral, nipy_spectral_r, ocean, ocean_r, pink, pink_r, plasma, plasma_r, prism, prism_r, rainbow, rainbow_r, rocket, rocket_r, seismic, seismic_r, spring, spring_r, summer, summer_r, tab10, tab10_r, tab20, tab20_r, tab20b, tab20b_r, tab20c, tab20c_r, terrain, terrain_r, twilight, twilight_r, twilight_shifted, twilight_shifted_r, viridis, viridis_r, vlag, vlag_r, winter, winter_r\u001b[0m\n\u001b[0m    ^\u001b[0m\n\u001b[0;31mSyntaxError\u001b[0m\u001b[0;31m:\u001b[0m invalid syntax\n"
     ]
    }
   ],
   "source": [
    ": Accent, Accent_r, Blues, Blues_r, BrBG, BrBG_r, BuGn, BuGn_r, BuPu, BuPu_r, CMRmap, CMRmap_r, Dark2, Dark2_r, GnBu, GnBu_r, Greens, Greens_r, Greys, Greys_r, OrRd, OrRd_r, Oranges, Oranges_r, PRGn, PRGn_r, Paired, Paired_r, Pastel1, Pastel1_r, Pastel2, Pastel2_r, PiYG, PiYG_r, PuBu, PuBuGn, PuBuGn_r, PuBu_r, PuOr, PuOr_r, PuRd, PuRd_r, Purples, Purples_r, RdBu, RdBu_r, RdGy, RdGy_r, RdPu, RdPu_r, RdYlBu, RdYlBu_r, RdYlGn, RdYlGn_r, Reds, Reds_r, Set1, Set1_r, Set2, Set2_r, Set3, Set3_r, Spectral, Spectral_r, Wistia, Wistia_r, YlGn, YlGnBu, YlGnBu_r, YlGn_r, YlOrBr, YlOrBr_r, YlOrRd, YlOrRd_r, afmhot, afmhot_r, autumn, autumn_r, binary, binary_r, bone, bone_r, brg, brg_r, bwr, bwr_r, cividis, cividis_r, cool, cool_r, coolwarm, coolwarm_r, copper, copper_r, cubehelix, cubehelix_r, flag, flag_r, gist_earth, gist_earth_r, gist_gray, gist_gray_r, gist_heat, gist_heat_r, gist_ncar, gist_ncar_r, gist_rainbow, gist_rainbow_r, gist_stern, gist_stern_r, gist_yarg, gist_yarg_r, gnuplot, gnuplot2, gnuplot2_r, gnuplot_r, gray, gray_r, hot, hot_r, hsv, hsv_r, icefire, icefire_r, inferno, inferno_r, jet, jet_r, magma, magma_r, mako, mako_r, nipy_spectral, nipy_spectral_r, ocean, ocean_r, pink, pink_r, plasma, plasma_r, prism, prism_r, rainbow, rainbow_r, rocket, rocket_r, seismic, seismic_r, spring, spring_r, summer, summer_r, tab10, tab10_r, tab20, tab20_r, tab20b, tab20b_r, tab20c, tab20c_r, terrain, terrain_r, twilight, twilight_r, twilight_shifted, twilight_shifted_r, viridis, viridis_r, vlag, vlag_r, winter, winter_r"
   ]
  },
  {
   "cell_type": "code",
   "execution_count": 179,
   "metadata": {},
   "outputs": [
    {
     "data": {
      "image/png": "[encoded data removed]",
      "text/plain": [
       "<Figure size 1440x720 with 2 Axes>"
      ]
     },
     "metadata": {
      "needs_background": "light"
     },
     "output_type": "display_data"
    }
   ],
   "source": [
    "fig, axes=plt.subplots(nrows=1, ncols=1, figsize=(20,10))\n",
    "ax =sns.heatmap(heatmap3_data, cmap=\"rainbow\")"
   ]
  },
  {
   "cell_type": "code",
   "execution_count": 198,
   "metadata": {},
   "outputs": [
    {
     "data": {
      "image/png": "[encoded data removed]",
      "text/plain": [
       "<Figure size 1440x720 with 2 Axes>"
      ]
     },
     "metadata": {
      "needs_background": "light"
     },
     "output_type": "display_data"
    }
   ],
   "source": [
    "fig, axes=plt.subplots(nrows=1, ncols=1, figsize=(20,10))\n",
    "ax =sns.heatmap(heatmap5_data, cmap=\"Blues\", annot=True)"
   ]
  },
  {
   "cell_type": "code",
   "execution_count": null,
   "metadata": {},
   "outputs": [],
   "source": []
  }
 ],
 "metadata": {
  "kernelspec": {
   "display_name": "Python [conda env:learn-env] *",
   "language": "python",
   "name": "conda-env-learn-env-py"
  },
  "language_info": {
   "codemirror_mode": {
    "name": "ipython",
    "version": 3
   },
   "file_extension": ".py",
   "mimetype": "text/x-python",
   "name": "python",
   "nbconvert_exporter": "python",
   "pygments_lexer": "ipython3",
   "version": "3.6.9"
  }
 },
 "nbformat": 4,
 "nbformat_minor": 2
}
